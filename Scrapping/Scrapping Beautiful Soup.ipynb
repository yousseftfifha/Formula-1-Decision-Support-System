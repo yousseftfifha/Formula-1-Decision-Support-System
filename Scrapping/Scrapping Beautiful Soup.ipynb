{
 "cells": [
  {
   "cell_type": "markdown",
   "id": "c691a847",
   "metadata": {},
   "source": [
    "# Scrapping using Python's beautiful soup"
   ]
  },
  {
   "cell_type": "markdown",
   "id": "42ef9bb2",
   "metadata": {},
   "source": [
    "### Import libraries"
   ]
  },
  {
   "cell_type": "code",
   "execution_count": 1,
   "id": "29e522b9",
   "metadata": {},
   "outputs": [],
   "source": [
    "import bs4 as bs\n",
    "import urllib.request\n",
    "import pandas as pd\n",
    "import numpy as np\n",
    "import matplotlib.pyplot as plt\n",
    "import seaborn as sns\n",
    "from functools import wraps"
   ]
  },
  {
   "cell_type": "markdown",
   "id": "15471819",
   "metadata": {},
   "source": [
    "### Test upon a single page"
   ]
  },
  {
   "cell_type": "code",
   "execution_count": 2,
   "id": "499df13b",
   "metadata": {},
   "outputs": [],
   "source": [
    "source = urllib.request.urlopen('https://www.formula1.com/en/results.html/1950/drivers.html').read()\n",
    "soup = bs.BeautifulSoup(source,'lxml')\n",
    "table = soup.find_all('table')[0] "
   ]
  },
  {
   "cell_type": "code",
   "execution_count": 3,
   "id": "c77f71a6",
   "metadata": {},
   "outputs": [
    {
     "data": {
      "text/html": [
       "<div>\n",
       "<style scoped>\n",
       "    .dataframe tbody tr th:only-of-type {\n",
       "        vertical-align: middle;\n",
       "    }\n",
       "\n",
       "    .dataframe tbody tr th {\n",
       "        vertical-align: top;\n",
       "    }\n",
       "\n",
       "    .dataframe thead th {\n",
       "        text-align: right;\n",
       "    }\n",
       "</style>\n",
       "<table border=\"1\" class=\"dataframe\">\n",
       "  <thead>\n",
       "    <tr style=\"text-align: right;\">\n",
       "      <th></th>\n",
       "      <th>Pos</th>\n",
       "      <th>Driver</th>\n",
       "      <th>Nationality</th>\n",
       "      <th>Car</th>\n",
       "      <th>PTS</th>\n",
       "    </tr>\n",
       "  </thead>\n",
       "  <tbody>\n",
       "    <tr>\n",
       "      <th>0</th>\n",
       "      <td>1</td>\n",
       "      <td>Nino Farina FAR</td>\n",
       "      <td>ITA</td>\n",
       "      <td>Alfa Romeo</td>\n",
       "      <td>30</td>\n",
       "    </tr>\n",
       "    <tr>\n",
       "      <th>1</th>\n",
       "      <td>2</td>\n",
       "      <td>Juan Manuel Fangio FAN</td>\n",
       "      <td>ARG</td>\n",
       "      <td>Alfa Romeo</td>\n",
       "      <td>27</td>\n",
       "    </tr>\n",
       "    <tr>\n",
       "      <th>2</th>\n",
       "      <td>3</td>\n",
       "      <td>Luigi Fagioli FAG</td>\n",
       "      <td>ITA</td>\n",
       "      <td>Alfa Romeo</td>\n",
       "      <td>24</td>\n",
       "    </tr>\n",
       "    <tr>\n",
       "      <th>3</th>\n",
       "      <td>4</td>\n",
       "      <td>Louis Rosier ROS</td>\n",
       "      <td>FRA</td>\n",
       "      <td>Talbot-Lago</td>\n",
       "      <td>13</td>\n",
       "    </tr>\n",
       "    <tr>\n",
       "      <th>4</th>\n",
       "      <td>5</td>\n",
       "      <td>Alberto Ascari ASC</td>\n",
       "      <td>ITA</td>\n",
       "      <td>Ferrari</td>\n",
       "      <td>11</td>\n",
       "    </tr>\n",
       "  </tbody>\n",
       "</table>\n",
       "</div>"
      ],
      "text/plain": [
       "   Pos                  Driver Nationality          Car  PTS\n",
       "0    1         Nino Farina FAR         ITA   Alfa Romeo   30\n",
       "1    2  Juan Manuel Fangio FAN         ARG   Alfa Romeo   27\n",
       "2    3       Luigi Fagioli FAG         ITA   Alfa Romeo   24\n",
       "3    4        Louis Rosier ROS         FRA  Talbot-Lago   13\n",
       "4    5      Alberto Ascari ASC         ITA      Ferrari   11"
      ]
     },
     "execution_count": 3,
     "metadata": {},
     "output_type": "execute_result"
    }
   ],
   "source": [
    "df = pd.read_html(str(table), flavor='bs4', header=[0])[0]\n",
    "df.drop([\"Unnamed: 0\",\"Unnamed: 6\"],axis=1, inplace=True)\n",
    "df.head()"
   ]
  },
  {
   "cell_type": "markdown",
   "id": "8efc8661",
   "metadata": {},
   "source": [
    "### Scrap all pages"
   ]
  },
  {
   "cell_type": "code",
   "execution_count": 4,
   "id": "f30b5727",
   "metadata": {},
   "outputs": [],
   "source": [
    "homePage='https://www.formula1.com/en/results.html/'\n",
    "driverPage='/drivers.html'"
   ]
  },
  {
   "cell_type": "markdown",
   "id": "baaa1f80",
   "metadata": {},
   "source": [
    "pages scatters between 1950 and 2021"
   ]
  },
  {
   "cell_type": "code",
   "execution_count": 5,
   "id": "af38a83e",
   "metadata": {},
   "outputs": [],
   "source": [
    "for year in range(1950,2022):\n",
    "    source = urllib.request.urlopen(homePage+str(year)+driverPage).read()\n",
    "    soup = bs.BeautifulSoup(source,'lxml')\n",
    "    table = soup.find_all('table')[0]  \n",
    "    df = df.append(pd.read_html(str(table), flavor='bs4', header=[0])[0])\n",
    "    df.drop([\"Unnamed: 0\",\"Unnamed: 6\"],axis=1, inplace=True)"
   ]
  },
  {
   "cell_type": "markdown",
   "id": "f6476c61",
   "metadata": {},
   "source": [
    "shape of df"
   ]
  },
  {
   "cell_type": "code",
   "execution_count": 6,
   "id": "10f90337",
   "metadata": {},
   "outputs": [
    {
     "data": {
      "text/plain": [
       "(1618, 5)"
      ]
     },
     "execution_count": 6,
     "metadata": {},
     "output_type": "execute_result"
    }
   ],
   "source": [
    "df.shape"
   ]
  },
  {
   "cell_type": "code",
   "execution_count": 7,
   "id": "d0473b65",
   "metadata": {},
   "outputs": [
    {
     "data": {
      "text/html": [
       "<div>\n",
       "<style scoped>\n",
       "    .dataframe tbody tr th:only-of-type {\n",
       "        vertical-align: middle;\n",
       "    }\n",
       "\n",
       "    .dataframe tbody tr th {\n",
       "        vertical-align: top;\n",
       "    }\n",
       "\n",
       "    .dataframe thead th {\n",
       "        text-align: right;\n",
       "    }\n",
       "</style>\n",
       "<table border=\"1\" class=\"dataframe\">\n",
       "  <thead>\n",
       "    <tr style=\"text-align: right;\">\n",
       "      <th></th>\n",
       "      <th>Pos</th>\n",
       "      <th>Driver</th>\n",
       "      <th>Nationality</th>\n",
       "      <th>Car</th>\n",
       "      <th>PTS</th>\n",
       "    </tr>\n",
       "  </thead>\n",
       "  <tbody>\n",
       "    <tr>\n",
       "      <th>0</th>\n",
       "      <td>1</td>\n",
       "      <td>Nino Farina FAR</td>\n",
       "      <td>ITA</td>\n",
       "      <td>Alfa Romeo</td>\n",
       "      <td>30.0</td>\n",
       "    </tr>\n",
       "    <tr>\n",
       "      <th>1</th>\n",
       "      <td>2</td>\n",
       "      <td>Juan Manuel Fangio FAN</td>\n",
       "      <td>ARG</td>\n",
       "      <td>Alfa Romeo</td>\n",
       "      <td>27.0</td>\n",
       "    </tr>\n",
       "    <tr>\n",
       "      <th>2</th>\n",
       "      <td>3</td>\n",
       "      <td>Luigi Fagioli FAG</td>\n",
       "      <td>ITA</td>\n",
       "      <td>Alfa Romeo</td>\n",
       "      <td>24.0</td>\n",
       "    </tr>\n",
       "    <tr>\n",
       "      <th>3</th>\n",
       "      <td>4</td>\n",
       "      <td>Louis Rosier ROS</td>\n",
       "      <td>FRA</td>\n",
       "      <td>Talbot-Lago</td>\n",
       "      <td>13.0</td>\n",
       "    </tr>\n",
       "    <tr>\n",
       "      <th>4</th>\n",
       "      <td>5</td>\n",
       "      <td>Alberto Ascari ASC</td>\n",
       "      <td>ITA</td>\n",
       "      <td>Ferrari</td>\n",
       "      <td>11.0</td>\n",
       "    </tr>\n",
       "    <tr>\n",
       "      <th>...</th>\n",
       "      <td>...</td>\n",
       "      <td>...</td>\n",
       "      <td>...</td>\n",
       "      <td>...</td>\n",
       "      <td>...</td>\n",
       "    </tr>\n",
       "    <tr>\n",
       "      <th>16</th>\n",
       "      <td>17</td>\n",
       "      <td>Nicholas Latifi LAT</td>\n",
       "      <td>CAN</td>\n",
       "      <td>Williams Mercedes</td>\n",
       "      <td>7.0</td>\n",
       "    </tr>\n",
       "    <tr>\n",
       "      <th>17</th>\n",
       "      <td>18</td>\n",
       "      <td>Antonio Giovinazzi GIO</td>\n",
       "      <td>ITA</td>\n",
       "      <td>Alfa Romeo Racing Ferrari</td>\n",
       "      <td>3.0</td>\n",
       "    </tr>\n",
       "    <tr>\n",
       "      <th>18</th>\n",
       "      <td>19</td>\n",
       "      <td>Mick Schumacher MSC</td>\n",
       "      <td>GER</td>\n",
       "      <td>Haas Ferrari</td>\n",
       "      <td>0.0</td>\n",
       "    </tr>\n",
       "    <tr>\n",
       "      <th>19</th>\n",
       "      <td>20</td>\n",
       "      <td>Robert Kubica KUB</td>\n",
       "      <td>POL</td>\n",
       "      <td>Alfa Romeo Racing Ferrari</td>\n",
       "      <td>0.0</td>\n",
       "    </tr>\n",
       "    <tr>\n",
       "      <th>20</th>\n",
       "      <td>21</td>\n",
       "      <td>Nikita Mazepin MAZ</td>\n",
       "      <td>RAF</td>\n",
       "      <td>Haas Ferrari</td>\n",
       "      <td>0.0</td>\n",
       "    </tr>\n",
       "  </tbody>\n",
       "</table>\n",
       "<p>1618 rows × 5 columns</p>\n",
       "</div>"
      ],
      "text/plain": [
       "   Pos                  Driver Nationality                        Car   PTS\n",
       "0    1         Nino Farina FAR         ITA                 Alfa Romeo  30.0\n",
       "1    2  Juan Manuel Fangio FAN         ARG                 Alfa Romeo  27.0\n",
       "2    3       Luigi Fagioli FAG         ITA                 Alfa Romeo  24.0\n",
       "3    4        Louis Rosier ROS         FRA                Talbot-Lago  13.0\n",
       "4    5      Alberto Ascari ASC         ITA                    Ferrari  11.0\n",
       "..  ..                     ...         ...                        ...   ...\n",
       "16  17     Nicholas Latifi LAT         CAN          Williams Mercedes   7.0\n",
       "17  18  Antonio Giovinazzi GIO         ITA  Alfa Romeo Racing Ferrari   3.0\n",
       "18  19     Mick Schumacher MSC         GER               Haas Ferrari   0.0\n",
       "19  20       Robert Kubica KUB         POL  Alfa Romeo Racing Ferrari   0.0\n",
       "20  21      Nikita Mazepin MAZ         RAF               Haas Ferrari   0.0\n",
       "\n",
       "[1618 rows x 5 columns]"
      ]
     },
     "execution_count": 7,
     "metadata": {},
     "output_type": "execute_result"
    }
   ],
   "source": [
    "df"
   ]
  },
  {
   "cell_type": "markdown",
   "id": "670d569a",
   "metadata": {},
   "source": [
    "as Pos and Nationality aren't relative to our cause which is to enrich our existing data by adding cars and last points we can eliminate unuseful columns"
   ]
  },
  {
   "cell_type": "code",
   "execution_count": 8,
   "id": "219dbe1f",
   "metadata": {},
   "outputs": [],
   "source": [
    "df=df.drop(columns='Pos')\n",
    "df=df.drop(columns='Nationality')"
   ]
  },
  {
   "cell_type": "markdown",
   "id": "c708140d",
   "metadata": {},
   "source": [
    "later on we need to match the previous data and this current data so as the driver code is UNIQUE we need to clean the column 'Driver' and extract the Code"
   ]
  },
  {
   "cell_type": "code",
   "execution_count": 9,
   "id": "9157b28d",
   "metadata": {},
   "outputs": [],
   "source": [
    "df['Code']=df['Driver'].str[-3:]\n",
    "df['Driver']=df['Driver'].str[:-4]"
   ]
  },
  {
   "cell_type": "code",
   "execution_count": 10,
   "id": "4760d0aa",
   "metadata": {},
   "outputs": [
    {
     "data": {
      "text/html": [
       "<div>\n",
       "<style scoped>\n",
       "    .dataframe tbody tr th:only-of-type {\n",
       "        vertical-align: middle;\n",
       "    }\n",
       "\n",
       "    .dataframe tbody tr th {\n",
       "        vertical-align: top;\n",
       "    }\n",
       "\n",
       "    .dataframe thead th {\n",
       "        text-align: right;\n",
       "    }\n",
       "</style>\n",
       "<table border=\"1\" class=\"dataframe\">\n",
       "  <thead>\n",
       "    <tr style=\"text-align: right;\">\n",
       "      <th></th>\n",
       "      <th>Driver</th>\n",
       "      <th>Car</th>\n",
       "      <th>PTS</th>\n",
       "      <th>Code</th>\n",
       "    </tr>\n",
       "  </thead>\n",
       "  <tbody>\n",
       "    <tr>\n",
       "      <th>0</th>\n",
       "      <td>Nino Farina</td>\n",
       "      <td>Alfa Romeo</td>\n",
       "      <td>30.0</td>\n",
       "      <td>FAR</td>\n",
       "    </tr>\n",
       "    <tr>\n",
       "      <th>1</th>\n",
       "      <td>Juan Manuel Fangio</td>\n",
       "      <td>Alfa Romeo</td>\n",
       "      <td>27.0</td>\n",
       "      <td>FAN</td>\n",
       "    </tr>\n",
       "    <tr>\n",
       "      <th>2</th>\n",
       "      <td>Luigi Fagioli</td>\n",
       "      <td>Alfa Romeo</td>\n",
       "      <td>24.0</td>\n",
       "      <td>FAG</td>\n",
       "    </tr>\n",
       "    <tr>\n",
       "      <th>3</th>\n",
       "      <td>Louis Rosier</td>\n",
       "      <td>Talbot-Lago</td>\n",
       "      <td>13.0</td>\n",
       "      <td>ROS</td>\n",
       "    </tr>\n",
       "    <tr>\n",
       "      <th>4</th>\n",
       "      <td>Alberto Ascari</td>\n",
       "      <td>Ferrari</td>\n",
       "      <td>11.0</td>\n",
       "      <td>ASC</td>\n",
       "    </tr>\n",
       "    <tr>\n",
       "      <th>...</th>\n",
       "      <td>...</td>\n",
       "      <td>...</td>\n",
       "      <td>...</td>\n",
       "      <td>...</td>\n",
       "    </tr>\n",
       "    <tr>\n",
       "      <th>16</th>\n",
       "      <td>Nicholas Latifi</td>\n",
       "      <td>Williams Mercedes</td>\n",
       "      <td>7.0</td>\n",
       "      <td>LAT</td>\n",
       "    </tr>\n",
       "    <tr>\n",
       "      <th>17</th>\n",
       "      <td>Antonio Giovinazzi</td>\n",
       "      <td>Alfa Romeo Racing Ferrari</td>\n",
       "      <td>3.0</td>\n",
       "      <td>GIO</td>\n",
       "    </tr>\n",
       "    <tr>\n",
       "      <th>18</th>\n",
       "      <td>Mick Schumacher</td>\n",
       "      <td>Haas Ferrari</td>\n",
       "      <td>0.0</td>\n",
       "      <td>MSC</td>\n",
       "    </tr>\n",
       "    <tr>\n",
       "      <th>19</th>\n",
       "      <td>Robert Kubica</td>\n",
       "      <td>Alfa Romeo Racing Ferrari</td>\n",
       "      <td>0.0</td>\n",
       "      <td>KUB</td>\n",
       "    </tr>\n",
       "    <tr>\n",
       "      <th>20</th>\n",
       "      <td>Nikita Mazepin</td>\n",
       "      <td>Haas Ferrari</td>\n",
       "      <td>0.0</td>\n",
       "      <td>MAZ</td>\n",
       "    </tr>\n",
       "  </tbody>\n",
       "</table>\n",
       "<p>1618 rows × 4 columns</p>\n",
       "</div>"
      ],
      "text/plain": [
       "                Driver                        Car   PTS Code\n",
       "0          Nino Farina                 Alfa Romeo  30.0  FAR\n",
       "1   Juan Manuel Fangio                 Alfa Romeo  27.0  FAN\n",
       "2        Luigi Fagioli                 Alfa Romeo  24.0  FAG\n",
       "3         Louis Rosier                Talbot-Lago  13.0  ROS\n",
       "4       Alberto Ascari                    Ferrari  11.0  ASC\n",
       "..                 ...                        ...   ...  ...\n",
       "16     Nicholas Latifi          Williams Mercedes   7.0  LAT\n",
       "17  Antonio Giovinazzi  Alfa Romeo Racing Ferrari   3.0  GIO\n",
       "18     Mick Schumacher               Haas Ferrari   0.0  MSC\n",
       "19       Robert Kubica  Alfa Romeo Racing Ferrari   0.0  KUB\n",
       "20      Nikita Mazepin               Haas Ferrari   0.0  MAZ\n",
       "\n",
       "[1618 rows x 4 columns]"
      ]
     },
     "execution_count": 10,
     "metadata": {},
     "output_type": "execute_result"
    }
   ],
   "source": [
    "df"
   ]
  },
  {
   "cell_type": "markdown",
   "id": "5ec0de01",
   "metadata": {},
   "source": [
    "chechink for duplicates"
   ]
  },
  {
   "cell_type": "code",
   "execution_count": 11,
   "id": "b33feda2",
   "metadata": {},
   "outputs": [
    {
     "name": "stdout",
     "output_type": "stream",
     "text": [
      "                Driver                        Car   PTS Code\n",
      "0          Nino Farina                 Alfa Romeo  30.0  FAR\n",
      "1   Juan Manuel Fangio                 Alfa Romeo  27.0  FAN\n",
      "2        Luigi Fagioli                 Alfa Romeo  24.0  FAG\n",
      "3         Louis Rosier                Talbot-Lago  13.0  ROS\n",
      "4       Alberto Ascari                    Ferrari  11.0  ASC\n",
      "..                 ...                        ...   ...  ...\n",
      "16     Nicholas Latifi          Williams Mercedes   7.0  LAT\n",
      "17  Antonio Giovinazzi  Alfa Romeo Racing Ferrari   3.0  GIO\n",
      "18     Mick Schumacher               Haas Ferrari   0.0  MSC\n",
      "19       Robert Kubica  Alfa Romeo Racing Ferrari   0.0  KUB\n",
      "20      Nikita Mazepin               Haas Ferrari   0.0  MAZ\n",
      "\n",
      "[1618 rows x 4 columns]\n"
     ]
    }
   ],
   "source": [
    "dfDuplicated = df[df.duplicated()]\n",
    "\n",
    "print(df)"
   ]
  },
  {
   "cell_type": "code",
   "execution_count": 13,
   "id": "05da19ce",
   "metadata": {},
   "outputs": [
    {
     "data": {
      "text/html": [
       "<div>\n",
       "<style scoped>\n",
       "    .dataframe tbody tr th:only-of-type {\n",
       "        vertical-align: middle;\n",
       "    }\n",
       "\n",
       "    .dataframe tbody tr th {\n",
       "        vertical-align: top;\n",
       "    }\n",
       "\n",
       "    .dataframe thead th {\n",
       "        text-align: right;\n",
       "    }\n",
       "</style>\n",
       "<table border=\"1\" class=\"dataframe\">\n",
       "  <thead>\n",
       "    <tr style=\"text-align: right;\">\n",
       "      <th></th>\n",
       "      <th>Driver</th>\n",
       "      <th>Car</th>\n",
       "      <th>PTS</th>\n",
       "      <th>Code</th>\n",
       "    </tr>\n",
       "  </thead>\n",
       "  <tbody>\n",
       "    <tr>\n",
       "      <th>1</th>\n",
       "      <td>Lewis Hamilton</td>\n",
       "      <td>McLaren Mercedes</td>\n",
       "      <td>109.0</td>\n",
       "      <td>HAM</td>\n",
       "    </tr>\n",
       "    <tr>\n",
       "      <th>0</th>\n",
       "      <td>Lewis Hamilton</td>\n",
       "      <td>McLaren Mercedes</td>\n",
       "      <td>98.0</td>\n",
       "      <td>HAM</td>\n",
       "    </tr>\n",
       "    <tr>\n",
       "      <th>4</th>\n",
       "      <td>Lewis Hamilton</td>\n",
       "      <td>McLaren Mercedes</td>\n",
       "      <td>49.0</td>\n",
       "      <td>HAM</td>\n",
       "    </tr>\n",
       "    <tr>\n",
       "      <th>3</th>\n",
       "      <td>Lewis Hamilton</td>\n",
       "      <td>McLaren Mercedes</td>\n",
       "      <td>240.0</td>\n",
       "      <td>HAM</td>\n",
       "    </tr>\n",
       "    <tr>\n",
       "      <th>4</th>\n",
       "      <td>Lewis Hamilton</td>\n",
       "      <td>McLaren Mercedes</td>\n",
       "      <td>227.0</td>\n",
       "      <td>HAM</td>\n",
       "    </tr>\n",
       "    <tr>\n",
       "      <th>3</th>\n",
       "      <td>Lewis Hamilton</td>\n",
       "      <td>McLaren Mercedes</td>\n",
       "      <td>190.0</td>\n",
       "      <td>HAM</td>\n",
       "    </tr>\n",
       "    <tr>\n",
       "      <th>3</th>\n",
       "      <td>Lewis Hamilton</td>\n",
       "      <td>Mercedes</td>\n",
       "      <td>189.0</td>\n",
       "      <td>HAM</td>\n",
       "    </tr>\n",
       "    <tr>\n",
       "      <th>0</th>\n",
       "      <td>Lewis Hamilton</td>\n",
       "      <td>Mercedes</td>\n",
       "      <td>384.0</td>\n",
       "      <td>HAM</td>\n",
       "    </tr>\n",
       "    <tr>\n",
       "      <th>0</th>\n",
       "      <td>Lewis Hamilton</td>\n",
       "      <td>Mercedes</td>\n",
       "      <td>381.0</td>\n",
       "      <td>HAM</td>\n",
       "    </tr>\n",
       "    <tr>\n",
       "      <th>1</th>\n",
       "      <td>Lewis Hamilton</td>\n",
       "      <td>Mercedes</td>\n",
       "      <td>380.0</td>\n",
       "      <td>HAM</td>\n",
       "    </tr>\n",
       "    <tr>\n",
       "      <th>0</th>\n",
       "      <td>Lewis Hamilton</td>\n",
       "      <td>Mercedes</td>\n",
       "      <td>363.0</td>\n",
       "      <td>HAM</td>\n",
       "    </tr>\n",
       "    <tr>\n",
       "      <th>0</th>\n",
       "      <td>Lewis Hamilton</td>\n",
       "      <td>Mercedes</td>\n",
       "      <td>408.0</td>\n",
       "      <td>HAM</td>\n",
       "    </tr>\n",
       "    <tr>\n",
       "      <th>0</th>\n",
       "      <td>Lewis Hamilton</td>\n",
       "      <td>Mercedes</td>\n",
       "      <td>413.0</td>\n",
       "      <td>HAM</td>\n",
       "    </tr>\n",
       "    <tr>\n",
       "      <th>0</th>\n",
       "      <td>Lewis Hamilton</td>\n",
       "      <td>Mercedes</td>\n",
       "      <td>347.0</td>\n",
       "      <td>HAM</td>\n",
       "    </tr>\n",
       "    <tr>\n",
       "      <th>1</th>\n",
       "      <td>Lewis Hamilton</td>\n",
       "      <td>Mercedes</td>\n",
       "      <td>387.5</td>\n",
       "      <td>HAM</td>\n",
       "    </tr>\n",
       "  </tbody>\n",
       "</table>\n",
       "</div>"
      ],
      "text/plain": [
       "           Driver               Car    PTS Code\n",
       "1  Lewis Hamilton  McLaren Mercedes  109.0  HAM\n",
       "0  Lewis Hamilton  McLaren Mercedes   98.0  HAM\n",
       "4  Lewis Hamilton  McLaren Mercedes   49.0  HAM\n",
       "3  Lewis Hamilton  McLaren Mercedes  240.0  HAM\n",
       "4  Lewis Hamilton  McLaren Mercedes  227.0  HAM\n",
       "3  Lewis Hamilton  McLaren Mercedes  190.0  HAM\n",
       "3  Lewis Hamilton          Mercedes  189.0  HAM\n",
       "0  Lewis Hamilton          Mercedes  384.0  HAM\n",
       "0  Lewis Hamilton          Mercedes  381.0  HAM\n",
       "1  Lewis Hamilton          Mercedes  380.0  HAM\n",
       "0  Lewis Hamilton          Mercedes  363.0  HAM\n",
       "0  Lewis Hamilton          Mercedes  408.0  HAM\n",
       "0  Lewis Hamilton          Mercedes  413.0  HAM\n",
       "0  Lewis Hamilton          Mercedes  347.0  HAM\n",
       "1  Lewis Hamilton          Mercedes  387.5  HAM"
      ]
     },
     "execution_count": 13,
     "metadata": {},
     "output_type": "execute_result"
    }
   ],
   "source": [
    "df[df['Driver']==\"Lewis Hamilton\"]"
   ]
  },
  {
   "cell_type": "markdown",
   "id": "54d2bfae",
   "metadata": {},
   "source": [
    "as we can see there's many duplicates ,latest data proves that lewis Hamilton Coded HAM have currently 387.5 points which appear in the last occurence "
   ]
  },
  {
   "cell_type": "code",
   "execution_count": 14,
   "id": "846b4304",
   "metadata": {},
   "outputs": [],
   "source": [
    "df1=df.drop_duplicates(subset=['Code'], keep='last')"
   ]
  },
  {
   "cell_type": "code",
   "execution_count": 15,
   "id": "f693172b",
   "metadata": {},
   "outputs": [
    {
     "data": {
      "text/plain": [
       "(287, 4)"
      ]
     },
     "execution_count": 15,
     "metadata": {},
     "output_type": "execute_result"
    }
   ],
   "source": [
    "df1.shape"
   ]
  },
  {
   "cell_type": "code",
   "execution_count": 16,
   "id": "69cd5ce9",
   "metadata": {},
   "outputs": [
    {
     "data": {
      "text/html": [
       "<div>\n",
       "<style scoped>\n",
       "    .dataframe tbody tr th:only-of-type {\n",
       "        vertical-align: middle;\n",
       "    }\n",
       "\n",
       "    .dataframe tbody tr th {\n",
       "        vertical-align: top;\n",
       "    }\n",
       "\n",
       "    .dataframe thead th {\n",
       "        text-align: right;\n",
       "    }\n",
       "</style>\n",
       "<table border=\"1\" class=\"dataframe\">\n",
       "  <thead>\n",
       "    <tr style=\"text-align: right;\">\n",
       "      <th></th>\n",
       "      <th>Driver</th>\n",
       "      <th>Car</th>\n",
       "      <th>PTS</th>\n",
       "      <th>Code</th>\n",
       "    </tr>\n",
       "  </thead>\n",
       "  <tbody>\n",
       "    <tr>\n",
       "      <th>1</th>\n",
       "      <td>Lewis Hamilton</td>\n",
       "      <td>Mercedes</td>\n",
       "      <td>387.5</td>\n",
       "      <td>HAM</td>\n",
       "    </tr>\n",
       "  </tbody>\n",
       "</table>\n",
       "</div>"
      ],
      "text/plain": [
       "           Driver       Car    PTS Code\n",
       "1  Lewis Hamilton  Mercedes  387.5  HAM"
      ]
     },
     "execution_count": 16,
     "metadata": {},
     "output_type": "execute_result"
    }
   ],
   "source": [
    "df1[df1['Driver']==\"Lewis Hamilton\"]"
   ]
  },
  {
   "cell_type": "markdown",
   "id": "47546636",
   "metadata": {},
   "source": [
    "### Export data to csv"
   ]
  },
  {
   "cell_type": "code",
   "execution_count": 18,
   "id": "91a55f62",
   "metadata": {},
   "outputs": [],
   "source": [
    "df1.to_csv (r'drivers.csv', index = False, header=True)\n"
   ]
  }
 ],
 "metadata": {
  "kernelspec": {
   "display_name": "Python 3",
   "language": "python",
   "name": "python3"
  },
  "language_info": {
   "codemirror_mode": {
    "name": "ipython",
    "version": 3
   },
   "file_extension": ".py",
   "mimetype": "text/x-python",
   "name": "python",
   "nbconvert_exporter": "python",
   "pygments_lexer": "ipython3",
   "version": "3.8.8"
  }
 },
 "nbformat": 4,
 "nbformat_minor": 5
}
