{
 "cells": [
  {
   "cell_type": "markdown",
   "id": "73926c01",
   "metadata": {},
   "source": [
    "#### Import"
   ]
  },
  {
   "cell_type": "code",
   "execution_count": 1,
   "id": "e74528de",
   "metadata": {
    "id": "e74528de"
   },
   "outputs": [],
   "source": [
    "%matplotlib inline\n",
    "import psycopg2\n",
    "import numpy as np\n",
    "import pandas as pd\n",
    "import matplotlib.pyplot as plt\n",
    "import seaborn as sns\n",
    "import pip\n",
    "from datetime import datetime"
   ]
  },
  {
   "cell_type": "markdown",
   "id": "756c7af1",
   "metadata": {},
   "source": [
    "### Data  Extraction"
   ]
  },
  {
   "cell_type": "markdown",
   "id": "be3f497f",
   "metadata": {},
   "source": [
    "#### Connection to database "
   ]
  },
  {
   "cell_type": "code",
   "execution_count": 2,
   "id": "3cd826ec",
   "metadata": {
    "id": "3cd826ec"
   },
   "outputs": [],
   "source": [
    "def DbConnect():\n",
    "    conn = psycopg2.connect(host=\"localhost\",database=\"FormulaOne\",port=5432,user='postgres',password='root')\n",
    "    return conn"
   ]
  },
  {
   "cell_type": "code",
   "execution_count": 3,
   "id": "a99b9e2c",
   "metadata": {
    "id": "a99b9e2c",
    "outputId": "8f071ff7-5fff-4fc3-fc10-6f18c4b002bb"
   },
   "outputs": [
    {
     "name": "stderr",
     "output_type": "stream",
     "text": [
      "C:\\Anaconda3\\lib\\site-packages\\pandas\\io\\sql.py:761: UserWarning: pandas only support SQLAlchemy connectable(engine/connection) ordatabase string URI or sqlite3 DBAPI2 connectionother DBAPI2 objects are not tested, please consider using SQLAlchemy\n",
      "  warnings.warn(\n",
      "C:\\Anaconda3\\lib\\site-packages\\pandas\\io\\sql.py:761: UserWarning: pandas only support SQLAlchemy connectable(engine/connection) ordatabase string URI or sqlite3 DBAPI2 connectionother DBAPI2 objects are not tested, please consider using SQLAlchemy\n",
      "  warnings.warn(\n",
      "C:\\Anaconda3\\lib\\site-packages\\pandas\\io\\sql.py:761: UserWarning: pandas only support SQLAlchemy connectable(engine/connection) ordatabase string URI or sqlite3 DBAPI2 connectionother DBAPI2 objects are not tested, please consider using SQLAlchemy\n",
      "  warnings.warn(\n",
      "C:\\Anaconda3\\lib\\site-packages\\pandas\\io\\sql.py:761: UserWarning: pandas only support SQLAlchemy connectable(engine/connection) ordatabase string URI or sqlite3 DBAPI2 connectionother DBAPI2 objects are not tested, please consider using SQLAlchemy\n",
      "  warnings.warn(\n",
      "C:\\Anaconda3\\lib\\site-packages\\pandas\\io\\sql.py:761: UserWarning: pandas only support SQLAlchemy connectable(engine/connection) ordatabase string URI or sqlite3 DBAPI2 connectionother DBAPI2 objects are not tested, please consider using SQLAlchemy\n",
      "  warnings.warn(\n",
      "C:\\Anaconda3\\lib\\site-packages\\pandas\\io\\sql.py:761: UserWarning: pandas only support SQLAlchemy connectable(engine/connection) ordatabase string URI or sqlite3 DBAPI2 connectionother DBAPI2 objects are not tested, please consider using SQLAlchemy\n",
      "  warnings.warn(\n",
      "C:\\Anaconda3\\lib\\site-packages\\pandas\\io\\sql.py:761: UserWarning: pandas only support SQLAlchemy connectable(engine/connection) ordatabase string URI or sqlite3 DBAPI2 connectionother DBAPI2 objects are not tested, please consider using SQLAlchemy\n",
      "  warnings.warn(\n",
      "C:\\Anaconda3\\lib\\site-packages\\pandas\\io\\sql.py:761: UserWarning: pandas only support SQLAlchemy connectable(engine/connection) ordatabase string URI or sqlite3 DBAPI2 connectionother DBAPI2 objects are not tested, please consider using SQLAlchemy\n",
      "  warnings.warn(\n",
      "C:\\Anaconda3\\lib\\site-packages\\pandas\\io\\sql.py:761: UserWarning: pandas only support SQLAlchemy connectable(engine/connection) ordatabase string URI or sqlite3 DBAPI2 connectionother DBAPI2 objects are not tested, please consider using SQLAlchemy\n",
      "  warnings.warn(\n",
      "C:\\Anaconda3\\lib\\site-packages\\pandas\\io\\sql.py:761: UserWarning: pandas only support SQLAlchemy connectable(engine/connection) ordatabase string URI or sqlite3 DBAPI2 connectionother DBAPI2 objects are not tested, please consider using SQLAlchemy\n",
      "  warnings.warn(\n"
     ]
    }
   ],
   "source": [
    "circuit = pd.read_sql('select * from \"CircuitDim\"', con=DbConnect())\n",
    "races= pd.read_sql('select * from \"RaceDim\"', con=DbConnect())\n",
    "date= pd.read_sql('select * from \"DateTimeDim\"', con=DbConnect())\n",
    "races= pd.read_sql('select * from \"RaceDim\"', con=DbConnect())\n",
    "driver= pd.read_sql('select * from \"DriverDim\"', con=DbConnect())\n",
    "constructor= pd.read_sql('select * from \"ConstructorsDim\"', con=DbConnect())\n",
    "status= pd.read_sql('select * from \"StatusDim\"', con=DbConnect())\n",
    "weather= pd.read_sql('select * from \"WeatherDim\"', con=DbConnect())\n",
    "penalty= pd.read_sql('select * from \"PenalityDim\"', con=DbConnect())\n",
    "result= pd.read_sql('select * from \"RaceResultFact\"', con=DbConnect())"
   ]
  },
  {
   "cell_type": "markdown",
   "id": "8eb9c157",
   "metadata": {},
   "source": [
    "### Merging to a single DataFrame"
   ]
  },
  {
   "cell_type": "markdown",
   "id": "aea44876",
   "metadata": {},
   "source": [
    "##### Renaming Keys"
   ]
  },
  {
   "cell_type": "code",
   "execution_count": 4,
   "id": "32d9fe8b",
   "metadata": {
    "id": "32d9fe8b"
   },
   "outputs": [],
   "source": [
    "races.rename(columns = {'datetime_fk':'dateId'}, inplace = True)\n",
    "races.rename(columns = {'circuit_fk':'CircuitId'}, inplace = True)\n",
    "result.rename(columns = {'race_fk':'raceId'}, inplace = True)\n",
    "result.rename(columns = {'driver_fk':'DriverID'}, inplace = True)\n",
    "result.rename(columns = {'constructor_fk':'constructorId'}, inplace = True)\n",
    "result.rename(columns = {'status_fk':'statusId'}, inplace = True)\n",
    "races.rename(columns = {'weather_fk':'weatherID'}, inplace = True)\n",
    "result.rename(columns = {'penalty_fk':'penalityId'}, inplace = True)"
   ]
  },
  {
   "cell_type": "code",
   "execution_count": 5,
   "id": "c8a59c0e",
   "metadata": {
    "id": "c8a59c0e"
   },
   "outputs": [],
   "source": [
    "df1 = pd.merge(races,date, on='dateId', how='inner')\n",
    "Racedim = pd.merge(df1,circuit, on='CircuitId', how='inner')\n",
    "df2 = pd.merge(result,Racedim, on='raceId', how='inner')\n",
    "df3 = pd.merge(df2,driver, on='DriverID', how='inner')\n",
    "df4 = pd.merge(df3,constructor, on='constructorId', how='inner')\n",
    "df5 = pd.merge(df4,status, on='statusId', how='inner')\n",
    "df6 = pd.merge(df5,weather, on='weatherID', how='inner')\n",
    "df7 = pd.merge(df6,penalty, on='penalityId', how='inner')"
   ]
  },
  {
   "cell_type": "markdown",
   "id": "2e924ea3",
   "metadata": {},
   "source": [
    "### Data Anlysis"
   ]
  },
  {
   "cell_type": "markdown",
   "id": "fbd0d8bf",
   "metadata": {},
   "source": [
    "##### Preparing"
   ]
  },
  {
   "cell_type": "code",
   "execution_count": 6,
   "id": "17518204",
   "metadata": {
    "id": "17518204"
   },
   "outputs": [],
   "source": [
    "Fact=df7"
   ]
  },
  {
   "cell_type": "code",
   "execution_count": 7,
   "id": "cb8811cb",
   "metadata": {
    "id": "cb8811cb",
    "outputId": "3503d206-673c-4acb-c32b-136d292c3b55"
   },
   "outputs": [
    {
     "data": {
      "text/plain": [
       "Index(['raceId', 'DriverID', 'constructorId', 'statusId', 'points_x', 'rank',\n",
       "       'laps', 'fastest_lapspeed', 'wins', 'laptime', 'pitstop', 'penalityId',\n",
       "       'round', 'name_x', 'CircuitId', 'dateId_x', 'weatherID', 'date', 'day',\n",
       "       'month', 'year', 'time', 'circuitRef', 'name_y', 'location', 'latitude',\n",
       "       'longitude', 'Altitude', 'country', 'img', 'DriverRef', 'Number',\n",
       "       'Code', 'ForeName', 'SurName', 'Dob', 'Nationality', 'points_y', 'car',\n",
       "       'constructorRef', 'constructorName', 'constructorNationality', 'status',\n",
       "       'weather', 'points', 'reason', 'raceName', 'driverCode', 'dateId_y'],\n",
       "      dtype='object')"
      ]
     },
     "execution_count": 7,
     "metadata": {},
     "output_type": "execute_result"
    }
   ],
   "source": [
    "Fact.columns"
   ]
  },
  {
   "cell_type": "markdown",
   "id": "69d9d25e",
   "metadata": {},
   "source": [
    "##### Deleting data before 2014"
   ]
  },
  {
   "cell_type": "markdown",
   "id": "1e23eb5c",
   "metadata": {},
   "source": [
    "Due to the lack of data accuracy before 2014 and the constant changes occurring on the formula one rules we saw best to only consider data from 2014 and above."
   ]
  },
  {
   "cell_type": "code",
   "execution_count": 8,
   "id": "6dfe49e5",
   "metadata": {
    "id": "6dfe49e5"
   },
   "outputs": [],
   "source": [
    "Fact=Fact.drop(Fact[(Fact[\"year\"] <=2014)].index)"
   ]
  },
  {
   "cell_type": "markdown",
   "id": "4ea5a2fc",
   "metadata": {},
   "source": [
    "##### Cleaning"
   ]
  },
  {
   "cell_type": "code",
   "execution_count": 9,
   "id": "de35fe0d",
   "metadata": {
    "id": "44c64163"
   },
   "outputs": [],
   "source": [
    "Fact[\"nameDriver\"]=Fact[\"ForeName\"]+\" \"+Fact[\"SurName\"]\n",
    "Fact[\"nameDriver\"]\n",
    "Fact['Dob']=pd.to_datetime(Fact['Dob'])\n",
    "date=datetime.today()-Fact['Dob']\n",
    "Fact['age']=round(date.dt.days/365)"
   ]
  },
  {
   "cell_type": "markdown",
   "id": "39a162dc",
   "metadata": {},
   "source": [
    "Calculating the drivers' age is more significant that having a birth date as it provides us a mesurable value."
   ]
  },
  {
   "cell_type": "code",
   "execution_count": 10,
   "id": "138473d6",
   "metadata": {
    "id": "138473d6"
   },
   "outputs": [],
   "source": [
    "Fact.drop(columns=['raceId',\n",
    "                   'DriverID',\n",
    "                   'constructorId',\n",
    "                   'CircuitId',\n",
    "                   'statusId',\n",
    "                   'statusId',\n",
    "                   'weatherID',\n",
    "                   'penalityId',\n",
    "                   'dateId_x',\n",
    "                   'dateId_y',\n",
    "                   'constructorRef',\n",
    "                   'DriverRef',\n",
    "                   'circuitRef',\n",
    "                   'ForeName',\n",
    "                   'SurName',\n",
    "                   'Dob',\n",
    "                   'Number',\n",
    "                   'Code',\n",
    "                   'day',\n",
    "                   'month',\n",
    "                   'raceName',\n",
    "                   'driverCode'],axis=1,inplace=True)"
   ]
  },
  {
   "cell_type": "code",
   "execution_count": 11,
   "id": "4353df5d",
   "metadata": {
    "id": "4353df5d"
   },
   "outputs": [],
   "source": [
    "Fact.rename(columns = {'name_x':'nameGP','name_y':'nameCircuit','points':'penalityPoints'}, inplace = True)"
   ]
  },
  {
   "cell_type": "code",
   "execution_count": 12,
   "id": "526844dc",
   "metadata": {
    "id": "526844dc",
    "outputId": "0e633e42-d062-4417-d6f5-56d7730865ec",
    "scrolled": true
   },
   "outputs": [
    {
     "name": "stdout",
     "output_type": "stream",
     "text": [
      "<class 'pandas.core.frame.DataFrame'>\n",
      "Int64Index: 2009 entries, 70 to 2901\n",
      "Data columns (total 30 columns):\n",
      " #   Column                  Non-Null Count  Dtype  \n",
      "---  ------                  --------------  -----  \n",
      " 0   points_x                2009 non-null   float64\n",
      " 1   rank                    2009 non-null   int64  \n",
      " 2   laps                    2009 non-null   int64  \n",
      " 3   fastest_lapspeed        2000 non-null   float64\n",
      " 4   wins                    2009 non-null   int64  \n",
      " 5   laptime                 2009 non-null   object \n",
      " 6   pitstop                 2009 non-null   object \n",
      " 7   round                   2009 non-null   int64  \n",
      " 8   nameGP                  2009 non-null   object \n",
      " 9   date                    2009 non-null   object \n",
      " 10  year                    2009 non-null   int64  \n",
      " 11  time                    2009 non-null   object \n",
      " 12  nameCircuit             2009 non-null   object \n",
      " 13  location                2009 non-null   object \n",
      " 14  latitude                2009 non-null   float64\n",
      " 15  longitude               2009 non-null   float64\n",
      " 16  Altitude                2009 non-null   int64  \n",
      " 17  country                 2009 non-null   object \n",
      " 18  img                     2009 non-null   object \n",
      " 19  Nationality             2009 non-null   object \n",
      " 20  points_y                2009 non-null   float64\n",
      " 21  car                     2009 non-null   object \n",
      " 22  constructorName         2009 non-null   object \n",
      " 23  constructorNationality  2009 non-null   object \n",
      " 24  status                  2009 non-null   object \n",
      " 25  weather                 1218 non-null   object \n",
      " 26  penalityPoints          2009 non-null   float64\n",
      " 27  reason                  2009 non-null   object \n",
      " 28  nameDriver              2009 non-null   object \n",
      " 29  age                     2009 non-null   float64\n",
      "dtypes: float64(7), int64(6), object(17)\n",
      "memory usage: 486.6+ KB\n"
     ]
    }
   ],
   "source": [
    "Fact.info()"
   ]
  },
  {
   "cell_type": "code",
   "execution_count": 13,
   "id": "321a4ab7",
   "metadata": {
    "id": "321a4ab7",
    "outputId": "f3642e60-02e2-467e-fb60-0c8e0b3dc1f8"
   },
   "outputs": [
    {
     "data": {
      "text/plain": [
       "(2009, 30)"
      ]
     },
     "execution_count": 13,
     "metadata": {},
     "output_type": "execute_result"
    }
   ],
   "source": [
    "Fact.shape"
   ]
  },
  {
   "cell_type": "code",
   "execution_count": 14,
   "id": "aad062d6",
   "metadata": {
    "id": "aad062d6",
    "outputId": "e78a05dc-11d5-4266-cbc0-239e9a927d48"
   },
   "outputs": [
    {
     "data": {
      "text/html": [
       "<div>\n",
       "<style scoped>\n",
       "    .dataframe tbody tr th:only-of-type {\n",
       "        vertical-align: middle;\n",
       "    }\n",
       "\n",
       "    .dataframe tbody tr th {\n",
       "        vertical-align: top;\n",
       "    }\n",
       "\n",
       "    .dataframe thead th {\n",
       "        text-align: right;\n",
       "    }\n",
       "</style>\n",
       "<table border=\"1\" class=\"dataframe\">\n",
       "  <thead>\n",
       "    <tr style=\"text-align: right;\">\n",
       "      <th></th>\n",
       "      <th>points_x</th>\n",
       "      <th>rank</th>\n",
       "      <th>laps</th>\n",
       "      <th>fastest_lapspeed</th>\n",
       "      <th>wins</th>\n",
       "      <th>laptime</th>\n",
       "      <th>pitstop</th>\n",
       "      <th>round</th>\n",
       "      <th>nameGP</th>\n",
       "      <th>date</th>\n",
       "      <th>...</th>\n",
       "      <th>points_y</th>\n",
       "      <th>car</th>\n",
       "      <th>constructorName</th>\n",
       "      <th>constructorNationality</th>\n",
       "      <th>status</th>\n",
       "      <th>weather</th>\n",
       "      <th>penalityPoints</th>\n",
       "      <th>reason</th>\n",
       "      <th>nameDriver</th>\n",
       "      <th>age</th>\n",
       "    </tr>\n",
       "  </thead>\n",
       "  <tbody>\n",
       "    <tr>\n",
       "      <th>70</th>\n",
       "      <td>15.0</td>\n",
       "      <td>3</td>\n",
       "      <td>58</td>\n",
       "      <td>208.740</td>\n",
       "      <td>0</td>\n",
       "      <td>01:32:28.590000</td>\n",
       "      <td>00:00:22.694000</td>\n",
       "      <td>1</td>\n",
       "      <td>Australian Grand Prix</td>\n",
       "      <td>2015-03-15</td>\n",
       "      <td>...</td>\n",
       "      <td>43.0</td>\n",
       "      <td>Aston Martin Mercedes</td>\n",
       "      <td>Ferrari</td>\n",
       "      <td>Italian</td>\n",
       "      <td>Finished</td>\n",
       "      <td>None</td>\n",
       "      <td>2.0</td>\n",
       "      <td>Collision with Esteban Ocon</td>\n",
       "      <td>Sebastian Vettel</td>\n",
       "      <td>35.0</td>\n",
       "    </tr>\n",
       "    <tr>\n",
       "      <th>71</th>\n",
       "      <td>25.0</td>\n",
       "      <td>1</td>\n",
       "      <td>56</td>\n",
       "      <td>193.501</td>\n",
       "      <td>1</td>\n",
       "      <td>01:41:05.793000</td>\n",
       "      <td>00:00:49.088000</td>\n",
       "      <td>2</td>\n",
       "      <td>Malaysian Grand Prix</td>\n",
       "      <td>2015-03-29</td>\n",
       "      <td>...</td>\n",
       "      <td>43.0</td>\n",
       "      <td>Aston Martin Mercedes</td>\n",
       "      <td>Ferrari</td>\n",
       "      <td>Italian</td>\n",
       "      <td>Finished</td>\n",
       "      <td>None</td>\n",
       "      <td>2.0</td>\n",
       "      <td>Collision with Esteban Ocon</td>\n",
       "      <td>Sebastian Vettel</td>\n",
       "      <td>35.0</td>\n",
       "    </tr>\n",
       "    <tr>\n",
       "      <th>72</th>\n",
       "      <td>15.0</td>\n",
       "      <td>3</td>\n",
       "      <td>56</td>\n",
       "      <td>190.487</td>\n",
       "      <td>0</td>\n",
       "      <td>01:39:44.996000</td>\n",
       "      <td>00:00:44.932000</td>\n",
       "      <td>3</td>\n",
       "      <td>Chinese Grand Prix</td>\n",
       "      <td>2015-04-12</td>\n",
       "      <td>...</td>\n",
       "      <td>43.0</td>\n",
       "      <td>Aston Martin Mercedes</td>\n",
       "      <td>Ferrari</td>\n",
       "      <td>Italian</td>\n",
       "      <td>Finished</td>\n",
       "      <td>None</td>\n",
       "      <td>2.0</td>\n",
       "      <td>Collision with Esteban Ocon</td>\n",
       "      <td>Sebastian Vettel</td>\n",
       "      <td>35.0</td>\n",
       "    </tr>\n",
       "    <tr>\n",
       "      <th>73</th>\n",
       "      <td>10.0</td>\n",
       "      <td>5</td>\n",
       "      <td>57</td>\n",
       "      <td>201.639</td>\n",
       "      <td>0</td>\n",
       "      <td>01:35:49.798000</td>\n",
       "      <td>00:01:22.879000</td>\n",
       "      <td>4</td>\n",
       "      <td>Bahrain Grand Prix</td>\n",
       "      <td>2015-04-19</td>\n",
       "      <td>...</td>\n",
       "      <td>43.0</td>\n",
       "      <td>Aston Martin Mercedes</td>\n",
       "      <td>Ferrari</td>\n",
       "      <td>Italian</td>\n",
       "      <td>Finished</td>\n",
       "      <td>None</td>\n",
       "      <td>2.0</td>\n",
       "      <td>Collision with Esteban Ocon</td>\n",
       "      <td>Sebastian Vettel</td>\n",
       "      <td>35.0</td>\n",
       "    </tr>\n",
       "    <tr>\n",
       "      <th>74</th>\n",
       "      <td>15.0</td>\n",
       "      <td>3</td>\n",
       "      <td>66</td>\n",
       "      <td>184.687</td>\n",
       "      <td>0</td>\n",
       "      <td>01:41:57.897000</td>\n",
       "      <td>00:00:43.598000</td>\n",
       "      <td>5</td>\n",
       "      <td>Spanish Grand Prix</td>\n",
       "      <td>2015-05-10</td>\n",
       "      <td>...</td>\n",
       "      <td>43.0</td>\n",
       "      <td>Aston Martin Mercedes</td>\n",
       "      <td>Ferrari</td>\n",
       "      <td>Italian</td>\n",
       "      <td>Finished</td>\n",
       "      <td>None</td>\n",
       "      <td>2.0</td>\n",
       "      <td>Collision with Esteban Ocon</td>\n",
       "      <td>Sebastian Vettel</td>\n",
       "      <td>35.0</td>\n",
       "    </tr>\n",
       "  </tbody>\n",
       "</table>\n",
       "<p>5 rows × 30 columns</p>\n",
       "</div>"
      ],
      "text/plain": [
       "    points_x  rank  laps  fastest_lapspeed  wins          laptime  \\\n",
       "70      15.0     3    58           208.740     0  01:32:28.590000   \n",
       "71      25.0     1    56           193.501     1  01:41:05.793000   \n",
       "72      15.0     3    56           190.487     0  01:39:44.996000   \n",
       "73      10.0     5    57           201.639     0  01:35:49.798000   \n",
       "74      15.0     3    66           184.687     0  01:41:57.897000   \n",
       "\n",
       "            pitstop  round                 nameGP        date  ...  points_y  \\\n",
       "70  00:00:22.694000      1  Australian Grand Prix  2015-03-15  ...      43.0   \n",
       "71  00:00:49.088000      2   Malaysian Grand Prix  2015-03-29  ...      43.0   \n",
       "72  00:00:44.932000      3     Chinese Grand Prix  2015-04-12  ...      43.0   \n",
       "73  00:01:22.879000      4     Bahrain Grand Prix  2015-04-19  ...      43.0   \n",
       "74  00:00:43.598000      5     Spanish Grand Prix  2015-05-10  ...      43.0   \n",
       "\n",
       "                      car constructorName constructorNationality    status  \\\n",
       "70  Aston Martin Mercedes         Ferrari                Italian  Finished   \n",
       "71  Aston Martin Mercedes         Ferrari                Italian  Finished   \n",
       "72  Aston Martin Mercedes         Ferrari                Italian  Finished   \n",
       "73  Aston Martin Mercedes         Ferrari                Italian  Finished   \n",
       "74  Aston Martin Mercedes         Ferrari                Italian  Finished   \n",
       "\n",
       "    weather  penalityPoints                       reason        nameDriver  \\\n",
       "70     None             2.0  Collision with Esteban Ocon  Sebastian Vettel   \n",
       "71     None             2.0  Collision with Esteban Ocon  Sebastian Vettel   \n",
       "72     None             2.0  Collision with Esteban Ocon  Sebastian Vettel   \n",
       "73     None             2.0  Collision with Esteban Ocon  Sebastian Vettel   \n",
       "74     None             2.0  Collision with Esteban Ocon  Sebastian Vettel   \n",
       "\n",
       "     age  \n",
       "70  35.0  \n",
       "71  35.0  \n",
       "72  35.0  \n",
       "73  35.0  \n",
       "74  35.0  \n",
       "\n",
       "[5 rows x 30 columns]"
      ]
     },
     "execution_count": 14,
     "metadata": {},
     "output_type": "execute_result"
    }
   ],
   "source": [
    "Fact.head()"
   ]
  },
  {
   "cell_type": "code",
   "execution_count": 15,
   "id": "cf2eac46",
   "metadata": {
    "id": "cf2eac46",
    "outputId": "16fc9f01-5ae2-4fc0-80bf-d710af9d96c6",
    "scrolled": true
   },
   "outputs": [
    {
     "data": {
      "text/html": [
       "<div>\n",
       "<style scoped>\n",
       "    .dataframe tbody tr th:only-of-type {\n",
       "        vertical-align: middle;\n",
       "    }\n",
       "\n",
       "    .dataframe tbody tr th {\n",
       "        vertical-align: top;\n",
       "    }\n",
       "\n",
       "    .dataframe thead th {\n",
       "        text-align: right;\n",
       "    }\n",
       "</style>\n",
       "<table border=\"1\" class=\"dataframe\">\n",
       "  <thead>\n",
       "    <tr style=\"text-align: right;\">\n",
       "      <th></th>\n",
       "      <th>points_x</th>\n",
       "      <th>rank</th>\n",
       "      <th>laps</th>\n",
       "      <th>fastest_lapspeed</th>\n",
       "      <th>wins</th>\n",
       "      <th>laptime</th>\n",
       "      <th>pitstop</th>\n",
       "      <th>round</th>\n",
       "      <th>nameGP</th>\n",
       "      <th>date</th>\n",
       "      <th>...</th>\n",
       "      <th>points_y</th>\n",
       "      <th>car</th>\n",
       "      <th>constructorName</th>\n",
       "      <th>constructorNationality</th>\n",
       "      <th>status</th>\n",
       "      <th>weather</th>\n",
       "      <th>penalityPoints</th>\n",
       "      <th>reason</th>\n",
       "      <th>nameDriver</th>\n",
       "      <th>age</th>\n",
       "    </tr>\n",
       "  </thead>\n",
       "  <tbody>\n",
       "    <tr>\n",
       "      <th>2897</th>\n",
       "      <td>0.0</td>\n",
       "      <td>16</td>\n",
       "      <td>77</td>\n",
       "      <td>159.484</td>\n",
       "      <td>0</td>\n",
       "      <td>01:43:46.428000</td>\n",
       "      <td>00:01:22.543000</td>\n",
       "      <td>6</td>\n",
       "      <td>Monaco Grand Prix</td>\n",
       "      <td>2018-05-27</td>\n",
       "      <td>...</td>\n",
       "      <td>1.0</td>\n",
       "      <td>Williams Mercedes</td>\n",
       "      <td>Williams</td>\n",
       "      <td>British</td>\n",
       "      <td>+1 Lap</td>\n",
       "      <td>Cloudy</td>\n",
       "      <td>2.0</td>\n",
       "      <td>Causing a collision</td>\n",
       "      <td>Sergey Sirotkin</td>\n",
       "      <td>27.0</td>\n",
       "    </tr>\n",
       "    <tr>\n",
       "      <th>2898</th>\n",
       "      <td>0.0</td>\n",
       "      <td>12</td>\n",
       "      <td>43</td>\n",
       "      <td>231.085</td>\n",
       "      <td>0</td>\n",
       "      <td>01:23:54.334000</td>\n",
       "      <td>00:00:42.130000</td>\n",
       "      <td>13</td>\n",
       "      <td>Belgian Grand Prix</td>\n",
       "      <td>2018-08-26</td>\n",
       "      <td>...</td>\n",
       "      <td>1.0</td>\n",
       "      <td>Williams Mercedes</td>\n",
       "      <td>Williams</td>\n",
       "      <td>British</td>\n",
       "      <td>+1 Lap</td>\n",
       "      <td>Cloudy</td>\n",
       "      <td>2.0</td>\n",
       "      <td>Causing a collision</td>\n",
       "      <td>Sergey Sirotkin</td>\n",
       "      <td>27.0</td>\n",
       "    </tr>\n",
       "    <tr>\n",
       "      <th>2899</th>\n",
       "      <td>1.0</td>\n",
       "      <td>10</td>\n",
       "      <td>52</td>\n",
       "      <td>246.568</td>\n",
       "      <td>0</td>\n",
       "      <td>01:17:00.656000</td>\n",
       "      <td>00:00:25.245000</td>\n",
       "      <td>14</td>\n",
       "      <td>Italian Grand Prix</td>\n",
       "      <td>2018-09-02</td>\n",
       "      <td>...</td>\n",
       "      <td>1.0</td>\n",
       "      <td>Williams Mercedes</td>\n",
       "      <td>Williams</td>\n",
       "      <td>British</td>\n",
       "      <td>+1 Lap</td>\n",
       "      <td>Cloudy</td>\n",
       "      <td>2.0</td>\n",
       "      <td>Causing a collision</td>\n",
       "      <td>Sergey Sirotkin</td>\n",
       "      <td>27.0</td>\n",
       "    </tr>\n",
       "    <tr>\n",
       "      <th>2900</th>\n",
       "      <td>0.0</td>\n",
       "      <td>16</td>\n",
       "      <td>69</td>\n",
       "      <td>208.887</td>\n",
       "      <td>0</td>\n",
       "      <td>01:27:25.980000</td>\n",
       "      <td>00:00:23.273000</td>\n",
       "      <td>20</td>\n",
       "      <td>Brazilian Grand Prix</td>\n",
       "      <td>2018-11-11</td>\n",
       "      <td>...</td>\n",
       "      <td>1.0</td>\n",
       "      <td>Williams Mercedes</td>\n",
       "      <td>Williams</td>\n",
       "      <td>British</td>\n",
       "      <td>+2 Laps</td>\n",
       "      <td>Cloudy</td>\n",
       "      <td>2.0</td>\n",
       "      <td>Causing a collision</td>\n",
       "      <td>Sergey Sirotkin</td>\n",
       "      <td>27.0</td>\n",
       "    </tr>\n",
       "    <tr>\n",
       "      <th>2901</th>\n",
       "      <td>0.0</td>\n",
       "      <td>19</td>\n",
       "      <td>51</td>\n",
       "      <td>208.609</td>\n",
       "      <td>0</td>\n",
       "      <td>01:09:59.300000</td>\n",
       "      <td>00:00:45.884000</td>\n",
       "      <td>11</td>\n",
       "      <td>German Grand Prix</td>\n",
       "      <td>2018-07-22</td>\n",
       "      <td>...</td>\n",
       "      <td>1.0</td>\n",
       "      <td>Williams Mercedes</td>\n",
       "      <td>Williams</td>\n",
       "      <td>British</td>\n",
       "      <td>Engine</td>\n",
       "      <td>Unstable</td>\n",
       "      <td>2.0</td>\n",
       "      <td>Causing a collision</td>\n",
       "      <td>Sergey Sirotkin</td>\n",
       "      <td>27.0</td>\n",
       "    </tr>\n",
       "  </tbody>\n",
       "</table>\n",
       "<p>5 rows × 30 columns</p>\n",
       "</div>"
      ],
      "text/plain": [
       "      points_x  rank  laps  fastest_lapspeed  wins          laptime  \\\n",
       "2897       0.0    16    77           159.484     0  01:43:46.428000   \n",
       "2898       0.0    12    43           231.085     0  01:23:54.334000   \n",
       "2899       1.0    10    52           246.568     0  01:17:00.656000   \n",
       "2900       0.0    16    69           208.887     0  01:27:25.980000   \n",
       "2901       0.0    19    51           208.609     0  01:09:59.300000   \n",
       "\n",
       "              pitstop  round                nameGP        date  ...  points_y  \\\n",
       "2897  00:01:22.543000      6     Monaco Grand Prix  2018-05-27  ...       1.0   \n",
       "2898  00:00:42.130000     13    Belgian Grand Prix  2018-08-26  ...       1.0   \n",
       "2899  00:00:25.245000     14    Italian Grand Prix  2018-09-02  ...       1.0   \n",
       "2900  00:00:23.273000     20  Brazilian Grand Prix  2018-11-11  ...       1.0   \n",
       "2901  00:00:45.884000     11     German Grand Prix  2018-07-22  ...       1.0   \n",
       "\n",
       "                    car constructorName constructorNationality   status  \\\n",
       "2897  Williams Mercedes        Williams                British   +1 Lap   \n",
       "2898  Williams Mercedes        Williams                British   +1 Lap   \n",
       "2899  Williams Mercedes        Williams                British   +1 Lap   \n",
       "2900  Williams Mercedes        Williams                British  +2 Laps   \n",
       "2901  Williams Mercedes        Williams                British   Engine   \n",
       "\n",
       "       weather  penalityPoints               reason       nameDriver   age  \n",
       "2897    Cloudy             2.0  Causing a collision  Sergey Sirotkin  27.0  \n",
       "2898    Cloudy             2.0  Causing a collision  Sergey Sirotkin  27.0  \n",
       "2899    Cloudy             2.0  Causing a collision  Sergey Sirotkin  27.0  \n",
       "2900    Cloudy             2.0  Causing a collision  Sergey Sirotkin  27.0  \n",
       "2901  Unstable             2.0  Causing a collision  Sergey Sirotkin  27.0  \n",
       "\n",
       "[5 rows x 30 columns]"
      ]
     },
     "execution_count": 15,
     "metadata": {},
     "output_type": "execute_result"
    }
   ],
   "source": [
    "Fact.tail()"
   ]
  },
  {
   "cell_type": "markdown",
   "id": "d6e1d747",
   "metadata": {},
   "source": [
    "#####  Checking for null Data"
   ]
  },
  {
   "cell_type": "code",
   "execution_count": 16,
   "id": "9eb6a0fc",
   "metadata": {
    "id": "9eb6a0fc",
    "outputId": "13ebfce2-f960-4b79-be62-a9686b54565f",
    "scrolled": false
   },
   "outputs": [
    {
     "data": {
      "text/plain": [
       "points_x                   0.000000\n",
       "rank                       0.000000\n",
       "laps                       0.000000\n",
       "fastest_lapspeed           0.447984\n",
       "wins                       0.000000\n",
       "laptime                    0.000000\n",
       "pitstop                    0.000000\n",
       "round                      0.000000\n",
       "nameGP                     0.000000\n",
       "date                       0.000000\n",
       "year                       0.000000\n",
       "time                       0.000000\n",
       "nameCircuit                0.000000\n",
       "location                   0.000000\n",
       "latitude                   0.000000\n",
       "longitude                  0.000000\n",
       "Altitude                   0.000000\n",
       "country                    0.000000\n",
       "img                        0.000000\n",
       "Nationality                0.000000\n",
       "points_y                   0.000000\n",
       "car                        0.000000\n",
       "constructorName            0.000000\n",
       "constructorNationality     0.000000\n",
       "status                     0.000000\n",
       "weather                   39.372822\n",
       "penalityPoints             0.000000\n",
       "reason                     0.000000\n",
       "nameDriver                 0.000000\n",
       "age                        0.000000\n",
       "dtype: float64"
      ]
     },
     "execution_count": 16,
     "metadata": {},
     "output_type": "execute_result"
    }
   ],
   "source": [
    "Fact.isnull().sum()*100/len(Fact)"
   ]
  },
  {
   "cell_type": "code",
   "execution_count": 17,
   "id": "16f60dc0",
   "metadata": {},
   "outputs": [],
   "source": [
    "Fact['weather'].fillna(Fact['weather'].mode().iloc[0], inplace=True)\n",
    "Fact['fastest_lapspeed'].fillna(Fact['fastest_lapspeed'].median(), inplace=True)\n",
    "Fact['laptime_sec']=0\n",
    "for i in range(0,len(Fact)):\n",
    "    t=Fact['laptime'].iat[i]\n",
    "    if t is None:\n",
    "        Fact['laptime_sec'].iat[i] = int(0)\n",
    "    else:\n",
    "        Fact['laptime_sec'].iat[i] = int(t.hour*3600000000+t.minute*60000000+t.second*1000000+t.microsecond)"
   ]
  },
  {
   "cell_type": "code",
   "execution_count": 18,
   "id": "c449940e",
   "metadata": {
    "scrolled": true
   },
   "outputs": [
    {
     "data": {
      "image/png": "[encoded data removed]",
      "text/plain": [
       "<Figure size 1224x864 with 2 Axes>"
      ]
     },
     "metadata": {
      "needs_background": "light"
     },
     "output_type": "display_data"
    }
   ],
   "source": [
    "# heatmap\n",
    "\n",
    "plt.figure(figsize=(17,12))\n",
    "sns.heatmap(Fact.corr(),annot=True)\n",
    "plt.show()"
   ]
  },
  {
   "cell_type": "markdown",
   "id": "21497a6a",
   "metadata": {},
   "source": [
    "## Algorithms"
   ]
  },
  {
   "cell_type": "markdown",
   "id": "c9d0dc4d",
   "metadata": {},
   "source": [
    "driver's performance in RS"
   ]
  },
  {
   "cell_type": "markdown",
   "id": "dda2c52d",
   "metadata": {},
   "source": [
    "Relevent data"
   ]
  },
  {
   "cell_type": "code",
   "execution_count": 19,
   "id": "64980ed3",
   "metadata": {},
   "outputs": [],
   "source": [
    "DriverPRS=Fact.drop(columns=[\n",
    "                   'date',\n",
    "                   'img',\n",
    "                   'time',\n",
    "                   'nameCircuit',\n",
    "                    'location',\n",
    "                    'country',\n",
    "                    'Nationality',\n",
    "                    'constructorName',\n",
    "                    'constructorNationality',\n",
    "                    'reason',\n",
    "                    'laptime',\n",
    "'longitude',\n",
    "'penalityPoints',\n",
    "'status',\n",
    "'Altitude',\n",
    "'nameGP',\n",
    "'pitstop',\n",
    "'points_x',\n",
    "'wins',\n",
    "'round',\n",
    "'year',\n",
    "'points_y',\n",
    "'car',\n",
    "'weather',\n",
    "'nameDriver','latitude'])\n"
   ]
  },
  {
   "cell_type": "code",
   "execution_count": 20,
   "id": "ade091a1",
   "metadata": {
    "scrolled": true
   },
   "outputs": [
    {
     "data": {
      "text/html": [
       "<div>\n",
       "<style scoped>\n",
       "    .dataframe tbody tr th:only-of-type {\n",
       "        vertical-align: middle;\n",
       "    }\n",
       "\n",
       "    .dataframe tbody tr th {\n",
       "        vertical-align: top;\n",
       "    }\n",
       "\n",
       "    .dataframe thead th {\n",
       "        text-align: right;\n",
       "    }\n",
       "</style>\n",
       "<table border=\"1\" class=\"dataframe\">\n",
       "  <thead>\n",
       "    <tr style=\"text-align: right;\">\n",
       "      <th></th>\n",
       "      <th>rank</th>\n",
       "      <th>laps</th>\n",
       "      <th>fastest_lapspeed</th>\n",
       "      <th>age</th>\n",
       "      <th>laptime_sec</th>\n",
       "    </tr>\n",
       "  </thead>\n",
       "  <tbody>\n",
       "    <tr>\n",
       "      <th>70</th>\n",
       "      <td>3</td>\n",
       "      <td>58</td>\n",
       "      <td>208.740</td>\n",
       "      <td>35.0</td>\n",
       "      <td>5548590000</td>\n",
       "    </tr>\n",
       "    <tr>\n",
       "      <th>71</th>\n",
       "      <td>1</td>\n",
       "      <td>56</td>\n",
       "      <td>193.501</td>\n",
       "      <td>35.0</td>\n",
       "      <td>6065793000</td>\n",
       "    </tr>\n",
       "    <tr>\n",
       "      <th>72</th>\n",
       "      <td>3</td>\n",
       "      <td>56</td>\n",
       "      <td>190.487</td>\n",
       "      <td>35.0</td>\n",
       "      <td>5984996000</td>\n",
       "    </tr>\n",
       "    <tr>\n",
       "      <th>73</th>\n",
       "      <td>5</td>\n",
       "      <td>57</td>\n",
       "      <td>201.639</td>\n",
       "      <td>35.0</td>\n",
       "      <td>5749798000</td>\n",
       "    </tr>\n",
       "    <tr>\n",
       "      <th>74</th>\n",
       "      <td>3</td>\n",
       "      <td>66</td>\n",
       "      <td>184.687</td>\n",
       "      <td>35.0</td>\n",
       "      <td>6117897000</td>\n",
       "    </tr>\n",
       "  </tbody>\n",
       "</table>\n",
       "</div>"
      ],
      "text/plain": [
       "    rank  laps  fastest_lapspeed   age  laptime_sec\n",
       "70     3    58           208.740  35.0   5548590000\n",
       "71     1    56           193.501  35.0   6065793000\n",
       "72     3    56           190.487  35.0   5984996000\n",
       "73     5    57           201.639  35.0   5749798000\n",
       "74     3    66           184.687  35.0   6117897000"
      ]
     },
     "execution_count": 20,
     "metadata": {},
     "output_type": "execute_result"
    }
   ],
   "source": [
    "DriverPRS.head()"
   ]
  },
  {
   "cell_type": "markdown",
   "id": "ee94a7c0",
   "metadata": {},
   "source": [
    "##### Variables encoding"
   ]
  },
  {
   "cell_type": "markdown",
   "id": "18f19e38",
   "metadata": {},
   "source": [
    "from sklearn.preprocessing import LabelEncoder\n",
    "lb_make = LabelEncoder()\n",
    "DriverPRS[\"nameDriver\"] = lb_make.fit_transform(DriverPRS[\"nameDriver\"])\n",
    "DriverPRS[\"car\"] = lb_make.fit_transform(DriverPRS[\"car\"])\n",
    "DriverPRS[\"weather\"] = lb_make.fit_transform(DriverPRS[\"weather\"])\n",
    "DriverPRS"
   ]
  },
  {
   "cell_type": "markdown",
   "id": "0d7c6e87",
   "metadata": {},
   "source": [
    "##### Correlation test"
   ]
  },
  {
   "cell_type": "code",
   "execution_count": 21,
   "id": "704d8043",
   "metadata": {
    "scrolled": true
   },
   "outputs": [
    {
     "data": {
      "image/png": "[encoded data removed]",
      "text/plain": [
       "<Figure size 1224x864 with 2 Axes>"
      ]
     },
     "metadata": {
      "needs_background": "light"
     },
     "output_type": "display_data"
    }
   ],
   "source": [
    "# heatmap\n",
    "\n",
    "plt.figure(figsize=(17,12))\n",
    "sns.heatmap(DriverPRS.corr(),annot=True)\n",
    "plt.show()"
   ]
  },
  {
   "cell_type": "code",
   "execution_count": 22,
   "id": "7dd00025",
   "metadata": {},
   "outputs": [],
   "source": [
    "DriverPRS['position_perf']=0\n",
    "for i in range(0,len(DriverPRS)):\n",
    "    pos=DriverPRS['rank'].iat[i]\n",
    "    if pos>0 and pos<6:\n",
    "         DriverPRS['position_perf'].iat[i] = int(1)\n",
    "    elif pos>5 and pos<11:\n",
    "         DriverPRS['position_perf'].iat[i] = int(2)\n",
    "    elif pos>10 and pos<16:\n",
    "         DriverPRS['position_perf'].iat[i] = int(3)\n",
    "    else:\n",
    "         DriverPRS['position_perf'].iat[i] = int(4)"
   ]
  },
  {
   "cell_type": "code",
   "execution_count": 23,
   "id": "7e98f5c2",
   "metadata": {},
   "outputs": [
    {
     "data": {
      "text/html": [
       "<div>\n",
       "<style scoped>\n",
       "    .dataframe tbody tr th:only-of-type {\n",
       "        vertical-align: middle;\n",
       "    }\n",
       "\n",
       "    .dataframe tbody tr th {\n",
       "        vertical-align: top;\n",
       "    }\n",
       "\n",
       "    .dataframe thead th {\n",
       "        text-align: right;\n",
       "    }\n",
       "</style>\n",
       "<table border=\"1\" class=\"dataframe\">\n",
       "  <thead>\n",
       "    <tr style=\"text-align: right;\">\n",
       "      <th></th>\n",
       "      <th>rank</th>\n",
       "      <th>laps</th>\n",
       "      <th>fastest_lapspeed</th>\n",
       "      <th>age</th>\n",
       "      <th>laptime_sec</th>\n",
       "      <th>position_perf</th>\n",
       "    </tr>\n",
       "  </thead>\n",
       "  <tbody>\n",
       "    <tr>\n",
       "      <th>70</th>\n",
       "      <td>3</td>\n",
       "      <td>58</td>\n",
       "      <td>208.740</td>\n",
       "      <td>35.0</td>\n",
       "      <td>5548590000</td>\n",
       "      <td>1</td>\n",
       "    </tr>\n",
       "    <tr>\n",
       "      <th>71</th>\n",
       "      <td>1</td>\n",
       "      <td>56</td>\n",
       "      <td>193.501</td>\n",
       "      <td>35.0</td>\n",
       "      <td>6065793000</td>\n",
       "      <td>1</td>\n",
       "    </tr>\n",
       "    <tr>\n",
       "      <th>72</th>\n",
       "      <td>3</td>\n",
       "      <td>56</td>\n",
       "      <td>190.487</td>\n",
       "      <td>35.0</td>\n",
       "      <td>5984996000</td>\n",
       "      <td>1</td>\n",
       "    </tr>\n",
       "    <tr>\n",
       "      <th>73</th>\n",
       "      <td>5</td>\n",
       "      <td>57</td>\n",
       "      <td>201.639</td>\n",
       "      <td>35.0</td>\n",
       "      <td>5749798000</td>\n",
       "      <td>1</td>\n",
       "    </tr>\n",
       "    <tr>\n",
       "      <th>74</th>\n",
       "      <td>3</td>\n",
       "      <td>66</td>\n",
       "      <td>184.687</td>\n",
       "      <td>35.0</td>\n",
       "      <td>6117897000</td>\n",
       "      <td>1</td>\n",
       "    </tr>\n",
       "    <tr>\n",
       "      <th>...</th>\n",
       "      <td>...</td>\n",
       "      <td>...</td>\n",
       "      <td>...</td>\n",
       "      <td>...</td>\n",
       "      <td>...</td>\n",
       "      <td>...</td>\n",
       "    </tr>\n",
       "    <tr>\n",
       "      <th>2897</th>\n",
       "      <td>16</td>\n",
       "      <td>77</td>\n",
       "      <td>159.484</td>\n",
       "      <td>27.0</td>\n",
       "      <td>6226428000</td>\n",
       "      <td>4</td>\n",
       "    </tr>\n",
       "    <tr>\n",
       "      <th>2898</th>\n",
       "      <td>12</td>\n",
       "      <td>43</td>\n",
       "      <td>231.085</td>\n",
       "      <td>27.0</td>\n",
       "      <td>5034334000</td>\n",
       "      <td>3</td>\n",
       "    </tr>\n",
       "    <tr>\n",
       "      <th>2899</th>\n",
       "      <td>10</td>\n",
       "      <td>52</td>\n",
       "      <td>246.568</td>\n",
       "      <td>27.0</td>\n",
       "      <td>4620656000</td>\n",
       "      <td>2</td>\n",
       "    </tr>\n",
       "    <tr>\n",
       "      <th>2900</th>\n",
       "      <td>16</td>\n",
       "      <td>69</td>\n",
       "      <td>208.887</td>\n",
       "      <td>27.0</td>\n",
       "      <td>5245980000</td>\n",
       "      <td>4</td>\n",
       "    </tr>\n",
       "    <tr>\n",
       "      <th>2901</th>\n",
       "      <td>19</td>\n",
       "      <td>51</td>\n",
       "      <td>208.609</td>\n",
       "      <td>27.0</td>\n",
       "      <td>4199300000</td>\n",
       "      <td>4</td>\n",
       "    </tr>\n",
       "  </tbody>\n",
       "</table>\n",
       "<p>2009 rows × 6 columns</p>\n",
       "</div>"
      ],
      "text/plain": [
       "      rank  laps  fastest_lapspeed   age  laptime_sec  position_perf\n",
       "70       3    58           208.740  35.0   5548590000              1\n",
       "71       1    56           193.501  35.0   6065793000              1\n",
       "72       3    56           190.487  35.0   5984996000              1\n",
       "73       5    57           201.639  35.0   5749798000              1\n",
       "74       3    66           184.687  35.0   6117897000              1\n",
       "...    ...   ...               ...   ...          ...            ...\n",
       "2897    16    77           159.484  27.0   6226428000              4\n",
       "2898    12    43           231.085  27.0   5034334000              3\n",
       "2899    10    52           246.568  27.0   4620656000              2\n",
       "2900    16    69           208.887  27.0   5245980000              4\n",
       "2901    19    51           208.609  27.0   4199300000              4\n",
       "\n",
       "[2009 rows x 6 columns]"
      ]
     },
     "execution_count": 23,
     "metadata": {},
     "output_type": "execute_result"
    }
   ],
   "source": [
    "DriverPRS"
   ]
  },
  {
   "cell_type": "code",
   "execution_count": 24,
   "id": "f35ef3bd",
   "metadata": {},
   "outputs": [],
   "source": [
    "#separate the other attributes from the predicting attribute\n",
    "X = DriverPRS.drop(columns=['position_perf','rank'])\n",
    "#separte the predicting attribute into Y for model training\n",
    "y = DriverPRS['position_perf']"
   ]
  },
  {
   "cell_type": "code",
   "execution_count": 25,
   "id": "3e9539ed",
   "metadata": {},
   "outputs": [],
   "source": [
    "# importing train_test_split from sklearn\n",
    "from sklearn.model_selection import train_test_split\n",
    "# splitting the data\n",
    "X_train,X_test,y_train,y_test=train_test_split(X,y,test_size=0.3,random_state=5)"
   ]
  },
  {
   "cell_type": "code",
   "execution_count": 26,
   "id": "2f619a8c",
   "metadata": {},
   "outputs": [],
   "source": [
    "from sklearn.tree import DecisionTreeClassifier\n",
    "dt = DecisionTreeClassifier(random_state=0)\n",
    "dt.fit(X_train, y_train);"
   ]
  },
  {
   "cell_type": "code",
   "execution_count": 27,
   "id": "3ec756e6",
   "metadata": {},
   "outputs": [
    {
     "name": "stdout",
     "output_type": "stream",
     "text": [
      "training accuracy = 1.0\n",
      "test accuracy = 0.5157545605306799\n"
     ]
    }
   ],
   "source": [
    "print('training accuracy = ' + str(dt.score(X_train, y_train)))\n",
    "print('test accuracy = '+ str(dt.score(X_test, y_test)))"
   ]
  },
  {
   "cell_type": "code",
   "execution_count": 28,
   "id": "0b33a06f",
   "metadata": {},
   "outputs": [
    {
     "data": {
      "text/plain": [
       "[0.3698518462431539,\n",
       " 0.3684005956437243,\n",
       " 0.37197445798945006,\n",
       " 0.3826329471744782,\n",
       " 0.3783650084551122,\n",
       " 0.36769894752782617,\n",
       " 0.37127785770172383,\n",
       " 0.3698594179854117,\n",
       " 0.3663082708664597,\n",
       " 0.37054592261679414,\n",
       " 0.359173165745438,\n",
       " 0.35633628631281394,\n",
       " 0.3606067489462659,\n",
       " 0.36415537215113203,\n",
       " 0.34851215264632385,\n",
       " 0.355616970798314,\n",
       " 0.35844627848868027,\n",
       " 0.3619949016935463,\n",
       " 0.35773453471643823,\n",
       " 0.3669771080992403,\n",
       " 0.3669720602710684,\n",
       " 0.3677014714419121,\n",
       " 0.3783700562832841,\n",
       " 0.3712601903031221,\n",
       " 0.3712576663890361,\n",
       " 0.37267863001943413,\n",
       " 0.3669872037555842,\n",
       " 0.36557633578153,\n",
       " 0.3669947754978421,\n",
       " 0.3620125690921481,\n",
       " 0.3684132152141541,\n",
       " 0.35917064183135206,\n",
       " 0.3627167411221322,\n",
       " 0.3627192650362182,\n",
       " 0.36272178895030416,\n",
       " 0.360594129375836,\n",
       " 0.35774967820095405,\n",
       " 0.3613033492339921,\n",
       " 0.35988490951768004,\n",
       " 0.3577471542868681,\n",
       " 0.3563211428282981,\n",
       " 0.3563261906564701,\n",
       " 0.355616970798314,\n",
       " 0.3570303626864542,\n",
       " 0.36272683677847606,\n",
       " 0.355616970798314,\n",
       " 0.35987733777542213,\n",
       " 0.35775220211504,\n",
       " 0.35775724994321195]"
      ]
     },
     "execution_count": 28,
     "metadata": {},
     "output_type": "execute_result"
    }
   ],
   "source": [
    "from sklearn.model_selection import cross_val_score\n",
    "from sklearn.neighbors import KNeighborsClassifier\n",
    "val_score=[]\n",
    "K=np.arange(1,50)\n",
    "for i in K:\n",
    "    score=cross_val_score(KNeighborsClassifier(n_neighbors=i),X_train,y_train,cv=5)\n",
    "    val_score.append(score.mean())\n",
    "\n",
    "val_score"
   ]
  },
  {
   "cell_type": "code",
   "execution_count": 29,
   "id": "cc417466",
   "metadata": {},
   "outputs": [
    {
     "name": "stdout",
     "output_type": "stream",
     "text": [
      "49\n"
     ]
    }
   ],
   "source": [
    "print(len(val_score))"
   ]
  },
  {
   "cell_type": "code",
   "execution_count": 34,
   "id": "f2bdceba",
   "metadata": {},
   "outputs": [
    {
     "data": {
      "text/plain": [
       "KNeighborsClassifier(n_neighbors=2)"
      ]
     },
     "execution_count": 34,
     "metadata": {},
     "output_type": "execute_result"
    }
   ],
   "source": [
    "# chargement du modèle KNeighborsClassifier\n",
    "from sklearn.neighbors import KNeighborsClassifier \n",
    "# Entrainer le modèle avec la méthode fit\n",
    "KNN=KNeighborsClassifier(n_neighbors=2) \n",
    "KNN.fit(X_train,y_train)\n",
    "\n"
   ]
  },
  {
   "cell_type": "code",
   "execution_count": 35,
   "id": "caa125fa",
   "metadata": {},
   "outputs": [
    {
     "name": "stdout",
     "output_type": "stream",
     "text": [
      "0.689900426742532\n",
      "0.3946932006633499\n"
     ]
    }
   ],
   "source": [
    "# Calculate models' score\n",
    "y_pred=KNN.predict(X_test)\n",
    "print(KNN.score(X_train,y_train))\n",
    "print(KNN.score(X_test, y_test))\n"
   ]
  },
  {
   "cell_type": "code",
   "execution_count": 47,
   "id": "89eaf476",
   "metadata": {},
   "outputs": [
    {
     "name": "stdout",
     "output_type": "stream",
     "text": [
      "[3]\n"
     ]
    }
   ],
   "source": [
    "test={'laps':['77'],'fastest_lapspeed':['160'],'age':['27'],'laptime_sec':['64006428000']}\n",
    "df=pd.DataFrame(test)\n",
    "pred = KNN.predict(df)\n",
    "print(pred)"
   ]
  },
  {
   "cell_type": "code",
   "execution_count": 50,
   "id": "00c41ea0",
   "metadata": {},
   "outputs": [],
   "source": [
    "import pickle\n",
    "pickle.dump(KNN, open('Knn.pkl','wb'))\n",
    "\n",
    "# Loading model to compare the results\n",
    "model = pickle.load(open('Knn.pkl','rb'))"
   ]
  }
 ],
 "metadata": {
  "colab": {
   "name": "RaceResult Analysis.ipynb",
   "provenance": []
  },
  "kernelspec": {
   "display_name": "Python 3",
   "language": "python",
   "name": "python3"
  },
  "language_info": {
   "codemirror_mode": {
    "name": "ipython",
    "version": 3
   },
   "file_extension": ".py",
   "mimetype": "text/x-python",
   "name": "python",
   "nbconvert_exporter": "python",
   "pygments_lexer": "ipython3",
   "version": "3.8.8"
  }
 },
 "nbformat": 4,
 "nbformat_minor": 5
}
