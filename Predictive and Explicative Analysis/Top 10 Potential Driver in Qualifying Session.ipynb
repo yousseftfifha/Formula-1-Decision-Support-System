{
 "cells": [
  {
   "cell_type": "markdown",
   "id": "65bf7adf",
   "metadata": {},
   "source": [
    "# <center>${\\textbf{Top Potential Driver in Qualifying Session}}$</center>"
   ]
  },
  {
   "cell_type": "markdown",
   "id": "cf94baf5",
   "metadata": {},
   "source": [
    "${\\textbf{Overview}}$"
   ]
  },
  {
   "cell_type": "markdown",
   "id": "631c83e4",
   "metadata": {},
   "source": [
    "A Formula One season consists of a series of races, known as Grands Prix, which take place worldwide on purpose-built circuits and on public roads. <br>\n",
    "A single competition takes place over three days, day one is a practice session ,the second day is the qualification round in which racers compete against time in order to obtain an advantageous position during  the third day which is the final race where drivers race against each other .<br>\n",
    "Most importantly for our case a  qualifying session is held before each race to determine the order cars will be lined up in at the start of the race, with the fastest qualifier starting at the front and the slowest at the back.<br>\n",
    "Currently, the first qualifying period (Q1) is eighteen minutes long, with all twenty cars competing.<br>\n",
    "At the end of Q1, the five slowest drivers are eliminated from further qualification rounds, and fill positions sixteen to twenty on the grid based on their fastest lap time. Any driver attempting to set a qualifying time when the period ends is permitted to finish his lap, though no new laps may be started once the chequered flag is shown. <br>\n",
    "After a short break, the second period (Q2) begins, with fifteen cars on the circuit.\n",
    "<br> At the end of Q2, the five slowest drivers are once again eliminated, filling grid positions eleven to fifteen. Finally, the third qualifying period (Q3) features the ten fastest drivers from the second period. \n",
    "<br>The drivers are issued a new set of soft tyres and have twelve minutes to set a qualifying time, which will determine the top ten positions on the grid. The driver who sets the fastest qualifying time is said to be on pole position, the grid position that offers the best physical position from which to start the race.<br>"
   ]
  },
  {
   "cell_type": "markdown",
   "id": "7727dde3",
   "metadata": {},
   "source": [
    "${\\textbf{Importance of Data}}$"
   ]
  },
  {
   "cell_type": "markdown",
   "id": "2272aaad",
   "metadata": {},
   "source": [
    "The insight analysis drills down to all information on the Formula 1 races, drivers, constructors, qualifying, circuits, lap times, pit stops, championships from 1950 till the latest 2021 season.<br>\n",
    "With the amount of data being captured, analyzed and used to design, build and drive the Formula 1 cars is astounding. It is a global sport being followed by millions of people worldwide and it is very fascinating to see drivers pushing their limit in these vehicles to become the fastest racers in the world!<br>"
   ]
  },
  {
   "cell_type": "markdown",
   "id": "c8f51907",
   "metadata": {},
   "source": [
    "${\\textbf{Import Libraries}}$"
   ]
  },
  {
   "cell_type": "code",
   "execution_count": 153,
   "id": "42241d5e",
   "metadata": {},
   "outputs": [],
   "source": [
    "%matplotlib inline\n",
    "import psycopg2\n",
    "import numpy as np\n",
    "import pandas as pd\n",
    "import matplotlib.pyplot as plt\n",
    "import seaborn as sns\n",
    "import pip\n",
    "import geopandas\n",
    "import altair as alt\n",
    "from descartes.patch import PolygonPatch\n",
    "from datetime import datetime\n",
    "from apyori import apriori \n",
    "import plotly.express as px\n",
    "from sklearn.svm import SVC\n",
    "import warnings\n",
    "warnings.simplefilter(\"ignore\")\n",
    "\n",
    "# importing ML libraries \n",
    "from sklearn.preprocessing import LabelEncoder\n",
    "from sklearn.linear_model import LinearRegression\n",
    "from sklearn.model_selection import train_test_split\n",
    "from sklearn.metrics import mean_absolute_error, mean_squared_error, median_absolute_error, r2_score\n",
    "import pickle\n"
   ]
  },
  {
   "cell_type": "markdown",
   "id": "46d3b1c9",
   "metadata": {},
   "source": [
    "## ${\\textbf{Part 1 - First Steps  }}$"
   ]
  },
  {
   "cell_type": "markdown",
   "id": "79bff2c0",
   "metadata": {},
   "source": [
    ">${\\textbf{Connect with Database}}$"
   ]
  },
  {
   "cell_type": "markdown",
   "id": "e2dedc0e",
   "metadata": {},
   "source": [
    "Previously on the integration Phase we have used Talend Open Studio for Intergration Services linkes with a PostgresSQL .<br>So now it's only logical that we connect python with the postgres Database in order to retrieve our dimensional data"
   ]
  },
  {
   "cell_type": "code",
   "execution_count": 154,
   "id": "eda1eee8",
   "metadata": {},
   "outputs": [],
   "source": [
    "def DbConnect():\n",
    "    conn = psycopg2.connect(host=\"localhost\",database=\"FormulaOne\",port=5432,user='postgres',password='root')\n",
    "    return conn"
   ]
  },
  {
   "cell_type": "markdown",
   "id": "dbb358f9",
   "metadata": {},
   "source": [
    ">${\\textbf{Get data from QualifyingFact and related tables}}$"
   ]
  },
  {
   "cell_type": "code",
   "execution_count": 155,
   "id": "6b25771a",
   "metadata": {},
   "outputs": [],
   "source": [
    "weather = pd.read_sql('select * from \"WeatherDim\"', con=DbConnect())\n",
    "date= pd.read_sql('select * from \"DateTimeDim\"', con=DbConnect())\n",
    "circuit = pd.read_sql('select * from \"CircuitDim\"', con=DbConnect())\n",
    "races= pd.read_sql('select * from \"RaceDim\"', con=DbConnect())\n",
    "driver= pd.read_sql('select * from \"DriverDim\"', con=DbConnect())\n",
    "constructor= pd.read_sql('select * from \"ConstructorsDim\"', con=DbConnect())\n",
    "qualifyingFact= pd.read_sql('select * from \"QualifyingFact\"', con=DbConnect())"
   ]
  },
  {
   "cell_type": "markdown",
   "id": "beb9fbdc",
   "metadata": {},
   "source": [
    ">${\\textbf{Merging Data to a single DataFrame }}$"
   ]
  },
  {
   "cell_type": "markdown",
   "id": "3327a03a",
   "metadata": {},
   "source": [
    "Renaming certain columns is essential for the merging "
   ]
  },
  {
   "cell_type": "code",
   "execution_count": 156,
   "id": "dfbd17b9",
   "metadata": {},
   "outputs": [],
   "source": [
    "races.rename(columns = {'datetime_fk':'dateId'}, inplace = True)\n",
    "races.rename(columns = {'weather_fk':'weatherID'}, inplace = True)\n",
    "races.rename(columns = {'circuit_fk':'CircuitId'}, inplace = True)\n",
    "qualifyingFact.rename(columns = {'race_fk':'raceId'}, inplace = True)\n",
    "qualifyingFact.rename(columns = {'driver_fk':'DriverID'}, inplace = True)\n",
    "qualifyingFact.rename(columns = {'constructor_fk':'constructorId'}, inplace = True)"
   ]
  },
  {
   "cell_type": "code",
   "execution_count": 157,
   "id": "a0da5090",
   "metadata": {},
   "outputs": [],
   "source": [
    "df1 = pd.merge(races,date, on='dateId', how='inner')\n",
    "df2 = pd.merge(df1,circuit, on='CircuitId', how='inner')\n",
    "df3 = pd.merge(df2,weather, on='weatherID', how='inner')\n",
    "df4 = pd.merge(qualifyingFact,df3, on='raceId', how='inner')\n",
    "df5 = pd.merge(df4,driver, on='DriverID', how='inner')\n",
    "Fact = pd.merge(df5,constructor, on='constructorId', how='inner')"
   ]
  },
  {
   "cell_type": "markdown",
   "id": "38b579b9",
   "metadata": {},
   "source": [
    "## ${\\textbf{Part 2 - Exploratory Data Analysis  }}$"
   ]
  },
  {
   "cell_type": "markdown",
   "id": "deb299ba",
   "metadata": {},
   "source": [
    "> ${\\textbf{Renaming columns }}$"
   ]
  },
  {
   "cell_type": "code",
   "execution_count": 158,
   "id": "7018e9d4",
   "metadata": {},
   "outputs": [],
   "source": [
    "Fact.rename(columns = {'name_x':'nameGP','name_y':'nameCircuit','Nationality':'driverNationality'}, inplace = True)"
   ]
  },
  {
   "cell_type": "markdown",
   "id": "e282d544",
   "metadata": {},
   "source": [
    "> ${\\textbf{Converting Date of birth to AGE}}$"
   ]
  },
  {
   "cell_type": "markdown",
   "id": "7699a922",
   "metadata": {},
   "source": [
    "The date of birth by itself can't be a great axis that we could retrieve and explain our  data from it so we opted for a conversion from date type to integer"
   ]
  },
  {
   "cell_type": "code",
   "execution_count": 159,
   "id": "4d1a91c0",
   "metadata": {},
   "outputs": [],
   "source": [
    "Fact['Dob']=pd.to_datetime(Fact['Dob'])\n",
    "date=datetime.today()-Fact['Dob']\n",
    "Fact['age']=round(date.dt.days/365)"
   ]
  },
  {
   "cell_type": "markdown",
   "id": "0c84448a",
   "metadata": {},
   "source": [
    "> ${\\textbf{Concatenating firstname and lastname }}$"
   ]
  },
  {
   "cell_type": "code",
   "execution_count": 160,
   "id": "c516990c",
   "metadata": {},
   "outputs": [],
   "source": [
    "Fact[\"nameDriver\"]=Fact[\"ForeName\"]+\" \"+Fact[\"SurName\"]"
   ]
  },
  {
   "cell_type": "markdown",
   "id": "790a24a9",
   "metadata": {},
   "source": [
    "> ${\\textbf{ Converting DateTime.Time Format to Milliseconds for a better overlook }}$"
   ]
  },
  {
   "cell_type": "markdown",
   "id": "e1461c47",
   "metadata": {},
   "source": [
    "Various methods such as aggregation or summation can't work with dateTime.Time types , also previously we noticed a great deal of null data with is explained in the introduction so nulls will be zeros and time will be converted to milliseconds"
   ]
  },
  {
   "cell_type": "code",
   "execution_count": 161,
   "id": "10b86670",
   "metadata": {},
   "outputs": [],
   "source": [
    "Fact['q1_sec']=0\n",
    "for i in range(0,len(Fact)):\n",
    "    t=Fact['q1'].iat[i]\n",
    "    if t is None:\n",
    "        Fact['q1_sec'].iat[i] = int(0)\n",
    "    else:\n",
    "        Fact['q1_sec'].iat[i] = int(t.hour*3600000000+t.minute*60000000+t.second*1000000+t.microsecond)"
   ]
  },
  {
   "cell_type": "code",
   "execution_count": 162,
   "id": "22a3b112",
   "metadata": {},
   "outputs": [],
   "source": [
    "Fact['q2_sec']=0\n",
    "for i in range(0,len(Fact)):\n",
    "    t=Fact['q2'].iat[i]\n",
    "    if t is None:\n",
    "        Fact['q2_sec'].iat[i] = int(0)\n",
    "    else:\n",
    "        Fact['q2_sec'].iat[i] = int(t.hour*3600000000+t.minute*60000000+t.second*1000000+t.microsecond)"
   ]
  },
  {
   "cell_type": "code",
   "execution_count": 163,
   "id": "3d0f705b",
   "metadata": {},
   "outputs": [],
   "source": [
    "Fact['q3_sec']=0\n",
    "for i in range(0,len(Fact)):\n",
    "    t=Fact['q3'].iat[i]\n",
    "    if t is None:\n",
    "        Fact['q3_sec'].iat[i] = int(0)\n",
    "    else:\n",
    "        Fact['q3_sec'].iat[i] = int(t.hour*3600000000+t.minute*60000000+t.second*1000000+t.microsecond)"
   ]
  },
  {
   "cell_type": "markdown",
   "id": "86c6dbe7",
   "metadata": {},
   "source": [
    "> ${\\textbf{Dropping unaffectful columns}}$"
   ]
  },
  {
   "cell_type": "code",
   "execution_count": 164,
   "id": "0f9a24dd",
   "metadata": {},
   "outputs": [],
   "source": [
    "Fact.drop(columns=['raceId',\n",
    "                   'DriverID',\n",
    "                   'constructorId',\n",
    "                   'CircuitId',\n",
    "                   'dateId',\n",
    "                   'weatherID',\n",
    "                   'constructorRef',\n",
    "                   'DriverRef',\n",
    "                   'circuitRef',\n",
    "                   'ForeName',\n",
    "                   'SurName',\n",
    "                   'Dob',\n",
    "                   'number',\n",
    "                   'time',\n",
    "                   'Number',\n",
    "                    'day',\n",
    "                   'car',\n",
    "                   'month',\n",
    "                   'Altitude',\n",
    "                   'location',\n",
    "                   'points',\n",
    "                   'img',\n",
    "                   'weather',\n",
    "                   'q1',\n",
    "                   'q2',\n",
    "                   'q3'],axis=1,inplace=True)"
   ]
  },
  {
   "cell_type": "markdown",
   "id": "e1807fe5",
   "metadata": {},
   "source": [
    "> ${\\textbf{Columns }}$"
   ]
  },
  {
   "cell_type": "code",
   "execution_count": 165,
   "id": "e5e7888f",
   "metadata": {},
   "outputs": [
    {
     "data": {
      "text/plain": [
       "Index(['position', 'round', 'nameGP', 'date', 'year', 'nameCircuit',\n",
       "       'latitude', 'longitude', 'country', 'Code', 'driverNationality',\n",
       "       'constructorName', 'constructorNationality', 'age', 'nameDriver',\n",
       "       'q1_sec', 'q2_sec', 'q3_sec'],\n",
       "      dtype='object')"
      ]
     },
     "execution_count": 165,
     "metadata": {},
     "output_type": "execute_result"
    }
   ],
   "source": [
    "Fact.columns"
   ]
  },
  {
   "cell_type": "markdown",
   "id": "06ce083a",
   "metadata": {},
   "source": [
    "> ${\\textbf{Data types and shape  }}$"
   ]
  },
  {
   "cell_type": "code",
   "execution_count": 166,
   "id": "bc23168e",
   "metadata": {},
   "outputs": [
    {
     "name": "stdout",
     "output_type": "stream",
     "text": [
      "<class 'pandas.core.frame.DataFrame'>\n",
      "Int64Index: 4759 entries, 0 to 4758\n",
      "Data columns (total 18 columns):\n",
      " #   Column                  Non-Null Count  Dtype  \n",
      "---  ------                  --------------  -----  \n",
      " 0   position                4759 non-null   int64  \n",
      " 1   round                   4759 non-null   int64  \n",
      " 2   nameGP                  4759 non-null   object \n",
      " 3   date                    4759 non-null   object \n",
      " 4   year                    4759 non-null   int64  \n",
      " 5   nameCircuit             4759 non-null   object \n",
      " 6   latitude                4759 non-null   float64\n",
      " 7   longitude               4759 non-null   float64\n",
      " 8   country                 4759 non-null   object \n",
      " 9   Code                    4759 non-null   object \n",
      " 10  driverNationality       4759 non-null   object \n",
      " 11  constructorName         4759 non-null   object \n",
      " 12  constructorNationality  4759 non-null   object \n",
      " 13  age                     4759 non-null   float64\n",
      " 14  nameDriver              4759 non-null   object \n",
      " 15  q1_sec                  4759 non-null   int64  \n",
      " 16  q2_sec                  4759 non-null   int64  \n",
      " 17  q3_sec                  4759 non-null   int64  \n",
      "dtypes: float64(3), int64(6), object(9)\n",
      "memory usage: 706.4+ KB\n"
     ]
    },
    {
     "data": {
      "text/plain": [
       "(4759, 18)"
      ]
     },
     "execution_count": 166,
     "metadata": {},
     "output_type": "execute_result"
    }
   ],
   "source": [
    "Fact.info()\n",
    "Fact.shape"
   ]
  },
  {
   "cell_type": "markdown",
   "id": "b3f8e6dd",
   "metadata": {},
   "source": [
    "Overall we have 18 columns and 4759 rows"
   ]
  },
  {
   "cell_type": "markdown",
   "id": "340f47b4",
   "metadata": {},
   "source": [
    "> ${\\textbf{Head and tails }}$"
   ]
  },
  {
   "cell_type": "code",
   "execution_count": 167,
   "id": "097e1b86",
   "metadata": {},
   "outputs": [
    {
     "data": {
      "text/html": [
       "<div>\n",
       "<style scoped>\n",
       "    .dataframe tbody tr th:only-of-type {\n",
       "        vertical-align: middle;\n",
       "    }\n",
       "\n",
       "    .dataframe tbody tr th {\n",
       "        vertical-align: top;\n",
       "    }\n",
       "\n",
       "    .dataframe thead th {\n",
       "        text-align: right;\n",
       "    }\n",
       "</style>\n",
       "<table border=\"1\" class=\"dataframe\">\n",
       "  <thead>\n",
       "    <tr style=\"text-align: right;\">\n",
       "      <th></th>\n",
       "      <th>position</th>\n",
       "      <th>round</th>\n",
       "      <th>nameGP</th>\n",
       "      <th>date</th>\n",
       "      <th>year</th>\n",
       "      <th>nameCircuit</th>\n",
       "      <th>latitude</th>\n",
       "      <th>longitude</th>\n",
       "      <th>country</th>\n",
       "      <th>Code</th>\n",
       "      <th>driverNationality</th>\n",
       "      <th>constructorName</th>\n",
       "      <th>constructorNationality</th>\n",
       "      <th>age</th>\n",
       "      <th>nameDriver</th>\n",
       "      <th>q1_sec</th>\n",
       "      <th>q2_sec</th>\n",
       "      <th>q3_sec</th>\n",
       "    </tr>\n",
       "  </thead>\n",
       "  <tbody>\n",
       "    <tr>\n",
       "      <th>0</th>\n",
       "      <td>1</td>\n",
       "      <td>1</td>\n",
       "      <td>Australian Grand Prix</td>\n",
       "      <td>2008-03-16</td>\n",
       "      <td>2008</td>\n",
       "      <td>Albert Park Grand Prix Circuit</td>\n",
       "      <td>-37.84970</td>\n",
       "      <td>144.96800</td>\n",
       "      <td>Australia</td>\n",
       "      <td>HAM</td>\n",
       "      <td>British</td>\n",
       "      <td>McLaren</td>\n",
       "      <td>British</td>\n",
       "      <td>37.0</td>\n",
       "      <td>Lewis Hamilton</td>\n",
       "      <td>86572000</td>\n",
       "      <td>85187000</td>\n",
       "      <td>86714000</td>\n",
       "    </tr>\n",
       "    <tr>\n",
       "      <th>1</th>\n",
       "      <td>4</td>\n",
       "      <td>2</td>\n",
       "      <td>Malaysian Grand Prix</td>\n",
       "      <td>2008-03-23</td>\n",
       "      <td>2008</td>\n",
       "      <td>Sepang International Circuit</td>\n",
       "      <td>2.76083</td>\n",
       "      <td>101.73800</td>\n",
       "      <td>Malaysia</td>\n",
       "      <td>HAM</td>\n",
       "      <td>British</td>\n",
       "      <td>McLaren</td>\n",
       "      <td>British</td>\n",
       "      <td>37.0</td>\n",
       "      <td>Lewis Hamilton</td>\n",
       "      <td>95392000</td>\n",
       "      <td>94627000</td>\n",
       "      <td>96709000</td>\n",
       "    </tr>\n",
       "    <tr>\n",
       "      <th>2</th>\n",
       "      <td>3</td>\n",
       "      <td>3</td>\n",
       "      <td>Bahrain Grand Prix</td>\n",
       "      <td>2008-04-06</td>\n",
       "      <td>2008</td>\n",
       "      <td>Bahrain International Circuit</td>\n",
       "      <td>26.03250</td>\n",
       "      <td>50.51060</td>\n",
       "      <td>Bahrain</td>\n",
       "      <td>HAM</td>\n",
       "      <td>British</td>\n",
       "      <td>McLaren</td>\n",
       "      <td>British</td>\n",
       "      <td>37.0</td>\n",
       "      <td>Lewis Hamilton</td>\n",
       "      <td>92750000</td>\n",
       "      <td>91922000</td>\n",
       "      <td>93292000</td>\n",
       "    </tr>\n",
       "    <tr>\n",
       "      <th>3</th>\n",
       "      <td>5</td>\n",
       "      <td>4</td>\n",
       "      <td>Spanish Grand Prix</td>\n",
       "      <td>2008-04-27</td>\n",
       "      <td>2008</td>\n",
       "      <td>Circuit de Barcelona-Catalunya</td>\n",
       "      <td>41.57000</td>\n",
       "      <td>2.26111</td>\n",
       "      <td>Spain</td>\n",
       "      <td>HAM</td>\n",
       "      <td>British</td>\n",
       "      <td>McLaren</td>\n",
       "      <td>British</td>\n",
       "      <td>37.0</td>\n",
       "      <td>Lewis Hamilton</td>\n",
       "      <td>81366000</td>\n",
       "      <td>80825000</td>\n",
       "      <td>82096000</td>\n",
       "    </tr>\n",
       "    <tr>\n",
       "      <th>4</th>\n",
       "      <td>3</td>\n",
       "      <td>5</td>\n",
       "      <td>Turkish Grand Prix</td>\n",
       "      <td>2008-05-11</td>\n",
       "      <td>2008</td>\n",
       "      <td>Istanbul Park</td>\n",
       "      <td>40.95170</td>\n",
       "      <td>29.40500</td>\n",
       "      <td>Turkey</td>\n",
       "      <td>HAM</td>\n",
       "      <td>British</td>\n",
       "      <td>McLaren</td>\n",
       "      <td>British</td>\n",
       "      <td>37.0</td>\n",
       "      <td>Lewis Hamilton</td>\n",
       "      <td>86192000</td>\n",
       "      <td>86477000</td>\n",
       "      <td>87923000</td>\n",
       "    </tr>\n",
       "  </tbody>\n",
       "</table>\n",
       "</div>"
      ],
      "text/plain": [
       "   position  round                 nameGP        date  year  \\\n",
       "0         1      1  Australian Grand Prix  2008-03-16  2008   \n",
       "1         4      2   Malaysian Grand Prix  2008-03-23  2008   \n",
       "2         3      3     Bahrain Grand Prix  2008-04-06  2008   \n",
       "3         5      4     Spanish Grand Prix  2008-04-27  2008   \n",
       "4         3      5     Turkish Grand Prix  2008-05-11  2008   \n",
       "\n",
       "                      nameCircuit  latitude  longitude    country Code  \\\n",
       "0  Albert Park Grand Prix Circuit -37.84970  144.96800  Australia  HAM   \n",
       "1    Sepang International Circuit   2.76083  101.73800   Malaysia  HAM   \n",
       "2   Bahrain International Circuit  26.03250   50.51060    Bahrain  HAM   \n",
       "3  Circuit de Barcelona-Catalunya  41.57000    2.26111      Spain  HAM   \n",
       "4                   Istanbul Park  40.95170   29.40500     Turkey  HAM   \n",
       "\n",
       "  driverNationality constructorName constructorNationality   age  \\\n",
       "0           British         McLaren                British  37.0   \n",
       "1           British         McLaren                British  37.0   \n",
       "2           British         McLaren                British  37.0   \n",
       "3           British         McLaren                British  37.0   \n",
       "4           British         McLaren                British  37.0   \n",
       "\n",
       "       nameDriver    q1_sec    q2_sec    q3_sec  \n",
       "0  Lewis Hamilton  86572000  85187000  86714000  \n",
       "1  Lewis Hamilton  95392000  94627000  96709000  \n",
       "2  Lewis Hamilton  92750000  91922000  93292000  \n",
       "3  Lewis Hamilton  81366000  80825000  82096000  \n",
       "4  Lewis Hamilton  86192000  86477000  87923000  "
      ]
     },
     "execution_count": 167,
     "metadata": {},
     "output_type": "execute_result"
    }
   ],
   "source": [
    "Fact.head()"
   ]
  },
  {
   "cell_type": "code",
   "execution_count": 168,
   "id": "4642a1d1",
   "metadata": {},
   "outputs": [
    {
     "data": {
      "text/html": [
       "<div>\n",
       "<style scoped>\n",
       "    .dataframe tbody tr th:only-of-type {\n",
       "        vertical-align: middle;\n",
       "    }\n",
       "\n",
       "    .dataframe tbody tr th {\n",
       "        vertical-align: top;\n",
       "    }\n",
       "\n",
       "    .dataframe thead th {\n",
       "        text-align: right;\n",
       "    }\n",
       "</style>\n",
       "<table border=\"1\" class=\"dataframe\">\n",
       "  <thead>\n",
       "    <tr style=\"text-align: right;\">\n",
       "      <th></th>\n",
       "      <th>position</th>\n",
       "      <th>round</th>\n",
       "      <th>nameGP</th>\n",
       "      <th>date</th>\n",
       "      <th>year</th>\n",
       "      <th>nameCircuit</th>\n",
       "      <th>latitude</th>\n",
       "      <th>longitude</th>\n",
       "      <th>country</th>\n",
       "      <th>Code</th>\n",
       "      <th>driverNationality</th>\n",
       "      <th>constructorName</th>\n",
       "      <th>constructorNationality</th>\n",
       "      <th>age</th>\n",
       "      <th>nameDriver</th>\n",
       "      <th>q1_sec</th>\n",
       "      <th>q2_sec</th>\n",
       "      <th>q3_sec</th>\n",
       "    </tr>\n",
       "  </thead>\n",
       "  <tbody>\n",
       "    <tr>\n",
       "      <th>4754</th>\n",
       "      <td>21</td>\n",
       "      <td>17</td>\n",
       "      <td>Japanese Grand Prix</td>\n",
       "      <td>2016-10-09</td>\n",
       "      <td>2016</td>\n",
       "      <td>Suzuka Circuit</td>\n",
       "      <td>34.8431</td>\n",
       "      <td>136.5410</td>\n",
       "      <td>Japan</td>\n",
       "      <td>OCO</td>\n",
       "      <td>French</td>\n",
       "      <td>Manor Marussia</td>\n",
       "      <td>British</td>\n",
       "      <td>26.0</td>\n",
       "      <td>Esteban Ocon</td>\n",
       "      <td>93353000</td>\n",
       "      <td>0</td>\n",
       "      <td>0</td>\n",
       "    </tr>\n",
       "    <tr>\n",
       "      <th>4755</th>\n",
       "      <td>22</td>\n",
       "      <td>18</td>\n",
       "      <td>United States Grand Prix</td>\n",
       "      <td>2016-10-23</td>\n",
       "      <td>2016</td>\n",
       "      <td>Circuit of the Americas</td>\n",
       "      <td>30.1328</td>\n",
       "      <td>-97.6411</td>\n",
       "      <td>USA</td>\n",
       "      <td>OCO</td>\n",
       "      <td>French</td>\n",
       "      <td>Manor Marussia</td>\n",
       "      <td>British</td>\n",
       "      <td>26.0</td>\n",
       "      <td>Esteban Ocon</td>\n",
       "      <td>98806000</td>\n",
       "      <td>0</td>\n",
       "      <td>0</td>\n",
       "    </tr>\n",
       "    <tr>\n",
       "      <th>4756</th>\n",
       "      <td>20</td>\n",
       "      <td>19</td>\n",
       "      <td>Mexican Grand Prix</td>\n",
       "      <td>2016-10-30</td>\n",
       "      <td>2016</td>\n",
       "      <td>Autódromo Hermanos Rodríguez</td>\n",
       "      <td>19.4042</td>\n",
       "      <td>-99.0907</td>\n",
       "      <td>Mexico</td>\n",
       "      <td>OCO</td>\n",
       "      <td>French</td>\n",
       "      <td>Manor Marussia</td>\n",
       "      <td>British</td>\n",
       "      <td>26.0</td>\n",
       "      <td>Esteban Ocon</td>\n",
       "      <td>81881000</td>\n",
       "      <td>0</td>\n",
       "      <td>0</td>\n",
       "    </tr>\n",
       "    <tr>\n",
       "      <th>4757</th>\n",
       "      <td>20</td>\n",
       "      <td>20</td>\n",
       "      <td>Brazilian Grand Prix</td>\n",
       "      <td>2016-11-13</td>\n",
       "      <td>2016</td>\n",
       "      <td>Autódromo José Carlos Pace</td>\n",
       "      <td>-23.7036</td>\n",
       "      <td>-46.6997</td>\n",
       "      <td>Brazil</td>\n",
       "      <td>OCO</td>\n",
       "      <td>French</td>\n",
       "      <td>Manor Marussia</td>\n",
       "      <td>British</td>\n",
       "      <td>26.0</td>\n",
       "      <td>Esteban Ocon</td>\n",
       "      <td>73432000</td>\n",
       "      <td>0</td>\n",
       "      <td>0</td>\n",
       "    </tr>\n",
       "    <tr>\n",
       "      <th>4758</th>\n",
       "      <td>20</td>\n",
       "      <td>21</td>\n",
       "      <td>Abu Dhabi Grand Prix</td>\n",
       "      <td>2016-11-27</td>\n",
       "      <td>2016</td>\n",
       "      <td>Yas Marina Circuit</td>\n",
       "      <td>24.4672</td>\n",
       "      <td>54.6031</td>\n",
       "      <td>UAE</td>\n",
       "      <td>OCO</td>\n",
       "      <td>French</td>\n",
       "      <td>Manor Marussia</td>\n",
       "      <td>British</td>\n",
       "      <td>26.0</td>\n",
       "      <td>Esteban Ocon</td>\n",
       "      <td>102286000</td>\n",
       "      <td>0</td>\n",
       "      <td>0</td>\n",
       "    </tr>\n",
       "  </tbody>\n",
       "</table>\n",
       "</div>"
      ],
      "text/plain": [
       "      position  round                    nameGP        date  year  \\\n",
       "4754        21     17       Japanese Grand Prix  2016-10-09  2016   \n",
       "4755        22     18  United States Grand Prix  2016-10-23  2016   \n",
       "4756        20     19        Mexican Grand Prix  2016-10-30  2016   \n",
       "4757        20     20      Brazilian Grand Prix  2016-11-13  2016   \n",
       "4758        20     21      Abu Dhabi Grand Prix  2016-11-27  2016   \n",
       "\n",
       "                       nameCircuit  latitude  longitude country Code  \\\n",
       "4754                Suzuka Circuit   34.8431   136.5410   Japan  OCO   \n",
       "4755       Circuit of the Americas   30.1328   -97.6411     USA  OCO   \n",
       "4756  Autódromo Hermanos Rodríguez   19.4042   -99.0907  Mexico  OCO   \n",
       "4757    Autódromo José Carlos Pace  -23.7036   -46.6997  Brazil  OCO   \n",
       "4758            Yas Marina Circuit   24.4672    54.6031     UAE  OCO   \n",
       "\n",
       "     driverNationality constructorName constructorNationality   age  \\\n",
       "4754            French  Manor Marussia                British  26.0   \n",
       "4755            French  Manor Marussia                British  26.0   \n",
       "4756            French  Manor Marussia                British  26.0   \n",
       "4757            French  Manor Marussia                British  26.0   \n",
       "4758            French  Manor Marussia                British  26.0   \n",
       "\n",
       "        nameDriver     q1_sec  q2_sec  q3_sec  \n",
       "4754  Esteban Ocon   93353000       0       0  \n",
       "4755  Esteban Ocon   98806000       0       0  \n",
       "4756  Esteban Ocon   81881000       0       0  \n",
       "4757  Esteban Ocon   73432000       0       0  \n",
       "4758  Esteban Ocon  102286000       0       0  "
      ]
     },
     "execution_count": 168,
     "metadata": {},
     "output_type": "execute_result"
    }
   ],
   "source": [
    "Fact.tail()"
   ]
  },
  {
   "cell_type": "markdown",
   "id": "803193ce",
   "metadata": {},
   "source": [
    "> ${\\textbf{checking of null values }}$"
   ]
  },
  {
   "cell_type": "markdown",
   "id": "13b7aa92",
   "metadata": {},
   "source": [
    "As previously explained we have anticipated the nulls and fixed them in the preporcessing phase"
   ]
  },
  {
   "cell_type": "code",
   "execution_count": 169,
   "id": "367210db",
   "metadata": {},
   "outputs": [
    {
     "data": {
      "text/plain": [
       "position                  0\n",
       "round                     0\n",
       "nameGP                    0\n",
       "date                      0\n",
       "year                      0\n",
       "nameCircuit               0\n",
       "latitude                  0\n",
       "longitude                 0\n",
       "country                   0\n",
       "Code                      0\n",
       "driverNationality         0\n",
       "constructorName           0\n",
       "constructorNationality    0\n",
       "age                       0\n",
       "nameDriver                0\n",
       "q1_sec                    0\n",
       "q2_sec                    0\n",
       "q3_sec                    0\n",
       "dtype: int64"
      ]
     },
     "execution_count": 169,
     "metadata": {},
     "output_type": "execute_result"
    }
   ],
   "source": [
    "Fact.isna().sum()"
   ]
  },
  {
   "cell_type": "code",
   "execution_count": 170,
   "id": "4624a99a",
   "metadata": {},
   "outputs": [],
   "source": [
    "selected_columns = Fact[[\"Code\",\"position\",\"age\",\"q3_sec\",\"driverNationality\"]]\n",
    "df = selected_columns.copy()\n"
   ]
  },
  {
   "cell_type": "code",
   "execution_count": 171,
   "id": "beadf7a2",
   "metadata": {},
   "outputs": [],
   "source": [
    "df['winning']=0\n",
    "for i in range(0,len(df)):\n",
    "    pos=df['position'].iat[i]\n",
    "    if pos>0 and pos<6:\n",
    "         df['winning'].iat[i] = int(1)\n",
    "    else:\n",
    "        \n",
    "         df['winning'].iat[i] = int(0)"
   ]
  },
  {
   "cell_type": "code",
   "execution_count": 172,
   "id": "6e795fb8",
   "metadata": {},
   "outputs": [],
   "source": [
    "df.drop(columns=['position'],axis=1,inplace=True)"
   ]
  },
  {
   "cell_type": "code",
   "execution_count": 173,
   "id": "79a78229",
   "metadata": {},
   "outputs": [],
   "source": [
    "df1=df\n",
    "df1=df1.groupby([\"Code\"]).sum('winning')"
   ]
  },
  {
   "cell_type": "code",
   "execution_count": 174,
   "id": "3f3d6ea7",
   "metadata": {},
   "outputs": [],
   "source": [
    "df1[\"potential\"]=df1[\"winning\"]/Fact.groupby([\"Code\"]).size()"
   ]
  },
  {
   "cell_type": "code",
   "execution_count": 175,
   "id": "90450a40",
   "metadata": {},
   "outputs": [],
   "source": [
    "df=df1[\"potential\"].to_frame()"
   ]
  },
  {
   "cell_type": "code",
   "execution_count": 176,
   "id": "46f910dd",
   "metadata": {},
   "outputs": [],
   "source": [
    "df.to_excel(r'potential.xlsx')"
   ]
  },
  {
   "cell_type": "code",
   "execution_count": 177,
   "id": "cda7a355",
   "metadata": {},
   "outputs": [],
   "source": [
    "df1 = pd.merge(df,driver, on='Code', how='inner')\n",
    "df1['Dob']=pd.to_datetime(df1['Dob'])\n",
    "date=datetime.today()-df1['Dob']\n",
    "df1['age']=round(date.dt.days/365)\n",
    "df1.drop(columns=['DriverID','DriverRef','Number','ForeName','SurName','Dob','car'],axis=1,inplace=True)\n",
    "df1['points'] = df1['points'].fillna(0).astype(np.int64, errors='ignore')\n",
    "df1['age'] = df1['age'].fillna(0).astype(np.int64, errors='ignore')\n",
    "df=df1"
   ]
  },
  {
   "cell_type": "code",
   "execution_count": 178,
   "id": "427582b3",
   "metadata": {},
   "outputs": [
    {
     "data": {
      "text/html": [
       "<div>\n",
       "<style scoped>\n",
       "    .dataframe tbody tr th:only-of-type {\n",
       "        vertical-align: middle;\n",
       "    }\n",
       "\n",
       "    .dataframe tbody tr th {\n",
       "        vertical-align: top;\n",
       "    }\n",
       "\n",
       "    .dataframe thead th {\n",
       "        text-align: right;\n",
       "    }\n",
       "</style>\n",
       "<table border=\"1\" class=\"dataframe\">\n",
       "  <thead>\n",
       "    <tr style=\"text-align: right;\">\n",
       "      <th></th>\n",
       "      <th>Code</th>\n",
       "      <th>potential</th>\n",
       "      <th>Nationality</th>\n",
       "      <th>points</th>\n",
       "      <th>age</th>\n",
       "    </tr>\n",
       "  </thead>\n",
       "  <tbody>\n",
       "    <tr>\n",
       "      <th>13</th>\n",
       "      <td>HAM</td>\n",
       "      <td>0.872727</td>\n",
       "      <td>British</td>\n",
       "      <td>387</td>\n",
       "      <td>37</td>\n",
       "    </tr>\n",
       "    <tr>\n",
       "      <th>48</th>\n",
       "      <td>VET</td>\n",
       "      <td>0.665414</td>\n",
       "      <td>German</td>\n",
       "      <td>43</td>\n",
       "      <td>35</td>\n",
       "    </tr>\n",
       "    <tr>\n",
       "      <th>4</th>\n",
       "      <td>BOT</td>\n",
       "      <td>0.626506</td>\n",
       "      <td>Finnish</td>\n",
       "      <td>226</td>\n",
       "      <td>33</td>\n",
       "    </tr>\n",
       "    <tr>\n",
       "      <th>34</th>\n",
       "      <td>RAI</td>\n",
       "      <td>0.480645</td>\n",
       "      <td>Finnish</td>\n",
       "      <td>10</td>\n",
       "      <td>43</td>\n",
       "    </tr>\n",
       "    <tr>\n",
       "      <th>47</th>\n",
       "      <td>VER</td>\n",
       "      <td>0.456989</td>\n",
       "      <td>Dutch</td>\n",
       "      <td>395</td>\n",
       "      <td>25</td>\n",
       "    </tr>\n",
       "    <tr>\n",
       "      <th>46</th>\n",
       "      <td>VER</td>\n",
       "      <td>0.456989</td>\n",
       "      <td>French</td>\n",
       "      <td>395</td>\n",
       "      <td>32</td>\n",
       "    </tr>\n",
       "    <tr>\n",
       "      <th>36</th>\n",
       "      <td>ROS</td>\n",
       "      <td>0.446602</td>\n",
       "      <td>German</td>\n",
       "      <td>385</td>\n",
       "      <td>37</td>\n",
       "    </tr>\n",
       "    <tr>\n",
       "      <th>21</th>\n",
       "      <td>LEC</td>\n",
       "      <td>0.411765</td>\n",
       "      <td>Monegasque</td>\n",
       "      <td>159</td>\n",
       "      <td>25</td>\n",
       "    </tr>\n",
       "    <tr>\n",
       "      <th>2</th>\n",
       "      <td>ALO</td>\n",
       "      <td>0.392157</td>\n",
       "      <td>Spanish</td>\n",
       "      <td>81</td>\n",
       "      <td>41</td>\n",
       "    </tr>\n",
       "    <tr>\n",
       "      <th>25</th>\n",
       "      <td>MAS</td>\n",
       "      <td>0.334630</td>\n",
       "      <td>Brazilian</td>\n",
       "      <td>43</td>\n",
       "      <td>41</td>\n",
       "    </tr>\n",
       "    <tr>\n",
       "      <th>35</th>\n",
       "      <td>RIC</td>\n",
       "      <td>0.311224</td>\n",
       "      <td>Australian</td>\n",
       "      <td>115</td>\n",
       "      <td>33</td>\n",
       "    </tr>\n",
       "    <tr>\n",
       "      <th>5</th>\n",
       "      <td>BUT</td>\n",
       "      <td>0.304183</td>\n",
       "      <td>British</td>\n",
       "      <td>21</td>\n",
       "      <td>42</td>\n",
       "    </tr>\n",
       "    <tr>\n",
       "      <th>1</th>\n",
       "      <td>ALB</td>\n",
       "      <td>0.216216</td>\n",
       "      <td>Thai</td>\n",
       "      <td>105</td>\n",
       "      <td>26</td>\n",
       "    </tr>\n",
       "    <tr>\n",
       "      <th>18</th>\n",
       "      <td>KUB</td>\n",
       "      <td>0.206186</td>\n",
       "      <td>Polish</td>\n",
       "      <td>0</td>\n",
       "      <td>37</td>\n",
       "    </tr>\n",
       "    <tr>\n",
       "      <th>30</th>\n",
       "      <td>NOR</td>\n",
       "      <td>0.148936</td>\n",
       "      <td>British</td>\n",
       "      <td>160</td>\n",
       "      <td>22</td>\n",
       "    </tr>\n",
       "  </tbody>\n",
       "</table>\n",
       "</div>"
      ],
      "text/plain": [
       "   Code  potential Nationality  points  age\n",
       "13  HAM   0.872727     British     387   37\n",
       "48  VET   0.665414      German      43   35\n",
       "4   BOT   0.626506     Finnish     226   33\n",
       "34  RAI   0.480645     Finnish      10   43\n",
       "47  VER   0.456989       Dutch     395   25\n",
       "46  VER   0.456989      French     395   32\n",
       "36  ROS   0.446602      German     385   37\n",
       "21  LEC   0.411765  Monegasque     159   25\n",
       "2   ALO   0.392157     Spanish      81   41\n",
       "25  MAS   0.334630   Brazilian      43   41\n",
       "35  RIC   0.311224  Australian     115   33\n",
       "5   BUT   0.304183     British      21   42\n",
       "1   ALB   0.216216        Thai     105   26\n",
       "18  KUB   0.206186      Polish       0   37\n",
       "30  NOR   0.148936     British     160   22"
      ]
     },
     "execution_count": 178,
     "metadata": {},
     "output_type": "execute_result"
    }
   ],
   "source": [
    "df.sort_values(by=\"potential\",ascending=False).head(15)"
   ]
  },
  {
   "cell_type": "code",
   "execution_count": 179,
   "id": "42e3388a",
   "metadata": {},
   "outputs": [],
   "source": [
    "le = LabelEncoder()\n",
    "df[\"Code\"] = le.fit_transform(df[\"Code\"])\n",
    "df[\"Nationality\"] = le.fit_transform(df[\"Nationality\"])"
   ]
  },
  {
   "cell_type": "code",
   "execution_count": 180,
   "id": "1748dbc6",
   "metadata": {},
   "outputs": [
    {
     "data": {
      "text/html": [
       "<div>\n",
       "<style scoped>\n",
       "    .dataframe tbody tr th:only-of-type {\n",
       "        vertical-align: middle;\n",
       "    }\n",
       "\n",
       "    .dataframe tbody tr th {\n",
       "        vertical-align: top;\n",
       "    }\n",
       "\n",
       "    .dataframe thead th {\n",
       "        text-align: right;\n",
       "    }\n",
       "</style>\n",
       "<table border=\"1\" class=\"dataframe\">\n",
       "  <thead>\n",
       "    <tr style=\"text-align: right;\">\n",
       "      <th></th>\n",
       "      <th>Code</th>\n",
       "      <th>potential</th>\n",
       "      <th>Nationality</th>\n",
       "      <th>points</th>\n",
       "      <th>age</th>\n",
       "    </tr>\n",
       "  </thead>\n",
       "  <tbody>\n",
       "    <tr>\n",
       "      <th>13</th>\n",
       "      <td>13</td>\n",
       "      <td>0.872727</td>\n",
       "      <td>4</td>\n",
       "      <td>387</td>\n",
       "      <td>37</td>\n",
       "    </tr>\n",
       "    <tr>\n",
       "      <th>48</th>\n",
       "      <td>46</td>\n",
       "      <td>0.665414</td>\n",
       "      <td>10</td>\n",
       "      <td>43</td>\n",
       "      <td>35</td>\n",
       "    </tr>\n",
       "    <tr>\n",
       "      <th>4</th>\n",
       "      <td>4</td>\n",
       "      <td>0.626506</td>\n",
       "      <td>8</td>\n",
       "      <td>226</td>\n",
       "      <td>33</td>\n",
       "    </tr>\n",
       "    <tr>\n",
       "      <th>34</th>\n",
       "      <td>33</td>\n",
       "      <td>0.480645</td>\n",
       "      <td>8</td>\n",
       "      <td>10</td>\n",
       "      <td>43</td>\n",
       "    </tr>\n",
       "    <tr>\n",
       "      <th>47</th>\n",
       "      <td>45</td>\n",
       "      <td>0.456989</td>\n",
       "      <td>7</td>\n",
       "      <td>395</td>\n",
       "      <td>25</td>\n",
       "    </tr>\n",
       "    <tr>\n",
       "      <th>46</th>\n",
       "      <td>45</td>\n",
       "      <td>0.456989</td>\n",
       "      <td>9</td>\n",
       "      <td>395</td>\n",
       "      <td>32</td>\n",
       "    </tr>\n",
       "    <tr>\n",
       "      <th>36</th>\n",
       "      <td>35</td>\n",
       "      <td>0.446602</td>\n",
       "      <td>10</td>\n",
       "      <td>385</td>\n",
       "      <td>37</td>\n",
       "    </tr>\n",
       "    <tr>\n",
       "      <th>21</th>\n",
       "      <td>20</td>\n",
       "      <td>0.411765</td>\n",
       "      <td>15</td>\n",
       "      <td>159</td>\n",
       "      <td>25</td>\n",
       "    </tr>\n",
       "    <tr>\n",
       "      <th>2</th>\n",
       "      <td>2</td>\n",
       "      <td>0.392157</td>\n",
       "      <td>19</td>\n",
       "      <td>81</td>\n",
       "      <td>41</td>\n",
       "    </tr>\n",
       "    <tr>\n",
       "      <th>25</th>\n",
       "      <td>24</td>\n",
       "      <td>0.334630</td>\n",
       "      <td>3</td>\n",
       "      <td>43</td>\n",
       "      <td>41</td>\n",
       "    </tr>\n",
       "    <tr>\n",
       "      <th>35</th>\n",
       "      <td>34</td>\n",
       "      <td>0.311224</td>\n",
       "      <td>1</td>\n",
       "      <td>115</td>\n",
       "      <td>33</td>\n",
       "    </tr>\n",
       "    <tr>\n",
       "      <th>5</th>\n",
       "      <td>5</td>\n",
       "      <td>0.304183</td>\n",
       "      <td>4</td>\n",
       "      <td>21</td>\n",
       "      <td>42</td>\n",
       "    </tr>\n",
       "    <tr>\n",
       "      <th>1</th>\n",
       "      <td>1</td>\n",
       "      <td>0.216216</td>\n",
       "      <td>21</td>\n",
       "      <td>105</td>\n",
       "      <td>26</td>\n",
       "    </tr>\n",
       "    <tr>\n",
       "      <th>18</th>\n",
       "      <td>17</td>\n",
       "      <td>0.206186</td>\n",
       "      <td>17</td>\n",
       "      <td>0</td>\n",
       "      <td>37</td>\n",
       "    </tr>\n",
       "    <tr>\n",
       "      <th>30</th>\n",
       "      <td>29</td>\n",
       "      <td>0.148936</td>\n",
       "      <td>4</td>\n",
       "      <td>160</td>\n",
       "      <td>22</td>\n",
       "    </tr>\n",
       "  </tbody>\n",
       "</table>\n",
       "</div>"
      ],
      "text/plain": [
       "    Code  potential  Nationality  points  age\n",
       "13    13   0.872727            4     387   37\n",
       "48    46   0.665414           10      43   35\n",
       "4      4   0.626506            8     226   33\n",
       "34    33   0.480645            8      10   43\n",
       "47    45   0.456989            7     395   25\n",
       "46    45   0.456989            9     395   32\n",
       "36    35   0.446602           10     385   37\n",
       "21    20   0.411765           15     159   25\n",
       "2      2   0.392157           19      81   41\n",
       "25    24   0.334630            3      43   41\n",
       "35    34   0.311224            1     115   33\n",
       "5      5   0.304183            4      21   42\n",
       "1      1   0.216216           21     105   26\n",
       "18    17   0.206186           17       0   37\n",
       "30    29   0.148936            4     160   22"
      ]
     },
     "execution_count": 180,
     "metadata": {},
     "output_type": "execute_result"
    }
   ],
   "source": [
    "df.sort_values(by=\"potential\",ascending=False).head(15)"
   ]
  },
  {
   "cell_type": "code",
   "execution_count": 64,
   "id": "81d8e566",
   "metadata": {},
   "outputs": [],
   "source": [
    "X = df.drop(['potential'], axis=1)\n",
    "y = df[['potential']]\n",
    "X_train, X_test, y_train, y_test=train_test_split(X, y, test_size=0.2, random_state=3)"
   ]
  },
  {
   "cell_type": "code",
   "execution_count": 65,
   "id": "62fc74b2",
   "metadata": {},
   "outputs": [
    {
     "data": {
      "text/plain": [
       "LinearRegression()"
      ]
     },
     "execution_count": 65,
     "metadata": {},
     "output_type": "execute_result"
    }
   ],
   "source": [
    "# #Régression linéaire multiple (toutes les variables de Boston) \n",
    "# linreg2 = LinearRegression(fit_intercept= True, normalize=False) \n",
    "# #pour imposer une ordonnée à l'origine (Par défaut ='True')\n",
    "# # Normalisation des données normalize=True\n",
    "# linreg2.fit(X_train, y_train)\n",
    "# y_pred = linreg2.predict(X_test)\n",
    "\n",
    "# print('test_score = ',linreg2.score(X_test,y_test)) \n",
    "# print('R2 = ',r2_score(y_test, y_pred))\n",
    "# print('MAE = ',mean_squared_error(y_test, y_pred))\n",
    "# print('RMSE = ', np.sqrt(mean_squared_error(y_test, y_pred)))\n",
    "# print('MAE = ', mean_absolute_error(y_test, y_pred))\n",
    "# print('MeadianAE = ', median_absolute_error(y_test, y_pred))\n",
    "\n",
    "# print('Intercept = ', linreg2.intercept_)\n",
    "# print('Coefficients : ',linreg2.coef_)\n",
    "\n",
    "regressor = LinearRegression()\n",
    "\n",
    "#Fitting model with trainig data\n",
    "regressor.fit(X, y)"
   ]
  },
  {
   "cell_type": "code",
   "execution_count": 66,
   "id": "89f0c450",
   "metadata": {},
   "outputs": [
    {
     "name": "stdout",
     "output_type": "stream",
     "text": [
      "[[0.25111984]]\n"
     ]
    }
   ],
   "source": [
    "test={'Code':['0'],'Nationality':['24'],'points':['170'],'age':['30']}\n",
    "df=pd.DataFrame(test)\n",
    "pred = regressor.predict(df)\n",
    "print(pred)"
   ]
  },
  {
   "cell_type": "code",
   "execution_count": 32,
   "id": "12e4dc1f",
   "metadata": {},
   "outputs": [],
   "source": [
    "pickle.dump(regressor, open('performancePredictor.pkl','wb'))\n",
    "\n",
    "# Loading model to compare the results\n",
    "model = pickle.load(open('performancePredictor.pkl','rb'))"
   ]
  }
 ],
 "metadata": {
  "kernelspec": {
   "display_name": "Python 3",
   "language": "python",
   "name": "python3"
  },
  "language_info": {
   "codemirror_mode": {
    "name": "ipython",
    "version": 3
   },
   "file_extension": ".py",
   "mimetype": "text/x-python",
   "name": "python",
   "nbconvert_exporter": "python",
   "pygments_lexer": "ipython3",
   "version": "3.8.8"
  }
 },
 "nbformat": 4,
 "nbformat_minor": 5
}
