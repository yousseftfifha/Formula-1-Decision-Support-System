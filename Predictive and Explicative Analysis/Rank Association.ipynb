{
 "cells": [
  {
   "cell_type": "markdown",
   "id": "46b08e1e",
   "metadata": {},
   "source": [
    "## Association Between Rank In Qualifying And Race Day "
   ]
  },
  {
   "cell_type": "markdown",
   "id": "e7ddc00f",
   "metadata": {},
   "source": [
    "### imports"
   ]
  },
  {
   "cell_type": "code",
   "execution_count": 1,
   "id": "02229caf",
   "metadata": {},
   "outputs": [],
   "source": [
    "import psycopg2\n",
    "import numpy as np\n",
    "import pandas as pd\n",
    "from datetime import datetime"
   ]
  },
  {
   "cell_type": "markdown",
   "id": "039e1589",
   "metadata": {},
   "source": [
    "### Importing Data"
   ]
  },
  {
   "cell_type": "code",
   "execution_count": 2,
   "id": "6b7dba45",
   "metadata": {},
   "outputs": [],
   "source": [
    "df = pd.read_excel (r'test.xlsx')\n"
   ]
  },
  {
   "cell_type": "code",
   "execution_count": 3,
   "id": "ff957aa0",
   "metadata": {},
   "outputs": [
    {
     "data": {
      "text/html": [
       "<div>\n",
       "<style scoped>\n",
       "    .dataframe tbody tr th:only-of-type {\n",
       "        vertical-align: middle;\n",
       "    }\n",
       "\n",
       "    .dataframe tbody tr th {\n",
       "        vertical-align: top;\n",
       "    }\n",
       "\n",
       "    .dataframe thead th {\n",
       "        text-align: right;\n",
       "    }\n",
       "</style>\n",
       "<table border=\"1\" class=\"dataframe\">\n",
       "  <thead>\n",
       "    <tr style=\"text-align: right;\">\n",
       "      <th></th>\n",
       "      <th>Unnamed: 0</th>\n",
       "      <th>nameDriver</th>\n",
       "      <th>rank</th>\n",
       "      <th>position_q</th>\n",
       "      <th>position_race</th>\n",
       "      <th>position_qualifiying</th>\n",
       "    </tr>\n",
       "  </thead>\n",
       "  <tbody>\n",
       "    <tr>\n",
       "      <th>0</th>\n",
       "      <td>0</td>\n",
       "      <td>Sergio Pérez</td>\n",
       "      <td>5</td>\n",
       "      <td>11</td>\n",
       "      <td>5 in race</td>\n",
       "      <td>11 in q</td>\n",
       "    </tr>\n",
       "    <tr>\n",
       "      <th>1</th>\n",
       "      <td>1</td>\n",
       "      <td>Sergio Pérez</td>\n",
       "      <td>5</td>\n",
       "      <td>11</td>\n",
       "      <td>5 in race</td>\n",
       "      <td>11 in q</td>\n",
       "    </tr>\n",
       "    <tr>\n",
       "      <th>2</th>\n",
       "      <td>2</td>\n",
       "      <td>Daniel Ricciardo</td>\n",
       "      <td>5</td>\n",
       "      <td>4</td>\n",
       "      <td>5 in race</td>\n",
       "      <td>4 in q</td>\n",
       "    </tr>\n",
       "    <tr>\n",
       "      <th>3</th>\n",
       "      <td>3</td>\n",
       "      <td>Daniel Ricciardo</td>\n",
       "      <td>5</td>\n",
       "      <td>4</td>\n",
       "      <td>5 in race</td>\n",
       "      <td>4 in q</td>\n",
       "    </tr>\n",
       "    <tr>\n",
       "      <th>4</th>\n",
       "      <td>4</td>\n",
       "      <td>Daniel Ricciardo</td>\n",
       "      <td>6</td>\n",
       "      <td>6</td>\n",
       "      <td>6 in race</td>\n",
       "      <td>6 in q</td>\n",
       "    </tr>\n",
       "  </tbody>\n",
       "</table>\n",
       "</div>"
      ],
      "text/plain": [
       "   Unnamed: 0        nameDriver  rank  position_q position_race  \\\n",
       "0           0      Sergio Pérez     5          11     5 in race   \n",
       "1           1      Sergio Pérez     5          11     5 in race   \n",
       "2           2  Daniel Ricciardo     5           4     5 in race   \n",
       "3           3  Daniel Ricciardo     5           4     5 in race   \n",
       "4           4  Daniel Ricciardo     6           6     6 in race   \n",
       "\n",
       "  position_qualifiying  \n",
       "0              11 in q  \n",
       "1              11 in q  \n",
       "2               4 in q  \n",
       "3               4 in q  \n",
       "4               6 in q  "
      ]
     },
     "execution_count": 3,
     "metadata": {},
     "output_type": "execute_result"
    }
   ],
   "source": [
    "df.head()"
   ]
  },
  {
   "cell_type": "markdown",
   "id": "87f2523b",
   "metadata": {},
   "source": [
    "#### droping unwanted collums"
   ]
  },
  {
   "cell_type": "code",
   "execution_count": 4,
   "id": "e026eea7",
   "metadata": {},
   "outputs": [],
   "source": [
    "df.drop(columns=[\n",
    "                   'Unnamed: 0','rank','position_q','nameDriver'\n",
    "                   ],axis=1,inplace=True)"
   ]
  },
  {
   "cell_type": "markdown",
   "id": "6e2f447e",
   "metadata": {},
   "source": [
    "## Applying Apriori Algorithm"
   ]
  },
  {
   "cell_type": "markdown",
   "id": "d8eaea47",
   "metadata": {},
   "source": [
    "### Imports"
   ]
  },
  {
   "cell_type": "code",
   "execution_count": 5,
   "id": "730eff2b",
   "metadata": {},
   "outputs": [],
   "source": [
    "from mlxtend.preprocessing import TransactionEncoder\n",
    "from mlxtend.frequent_patterns import apriori\n",
    "from mlxtend.frequent_patterns import association_rules\n"
   ]
  },
  {
   "cell_type": "code",
   "execution_count": 6,
   "id": "397a3cdd",
   "metadata": {},
   "outputs": [],
   "source": [
    "items= []\n",
    "for i in range(0,4758):\n",
    "    items.append([str(df.values[i,j]) for j in range(2)  ])"
   ]
  },
  {
   "cell_type": "code",
   "execution_count": 7,
   "id": "f49435f2",
   "metadata": {},
   "outputs": [
    {
     "name": "stdout",
     "output_type": "stream",
     "text": [
      "      1 in q  1 in race  10 in q  10 in race  11 in q  11 in race  12 in q  \\\n",
      "0      False      False    False       False     True       False    False   \n",
      "1      False      False    False       False     True       False    False   \n",
      "2      False      False    False       False    False       False    False   \n",
      "3      False      False    False       False    False       False    False   \n",
      "4      False      False    False       False    False       False    False   \n",
      "...      ...        ...      ...         ...      ...         ...      ...   \n",
      "4753   False      False    False       False     True       False    False   \n",
      "4754   False      False    False       False    False       False     True   \n",
      "4755   False      False    False       False    False       False     True   \n",
      "4756   False      False    False       False    False       False    False   \n",
      "4757   False      False    False       False    False       False    False   \n",
      "\n",
      "      12 in race  13 in q  13 in race  ...  5 in q  5 in race  6 in q  \\\n",
      "0          False    False       False  ...   False       True   False   \n",
      "1          False    False       False  ...   False       True   False   \n",
      "2          False    False       False  ...   False       True   False   \n",
      "3          False    False       False  ...   False       True   False   \n",
      "4          False    False       False  ...   False      False    True   \n",
      "...          ...      ...         ...  ...     ...        ...     ...   \n",
      "4753       False    False       False  ...   False      False   False   \n",
      "4754       False    False       False  ...   False      False   False   \n",
      "4755       False    False       False  ...   False      False   False   \n",
      "4756       False    False       False  ...   False      False   False   \n",
      "4757       False    False       False  ...   False      False   False   \n",
      "\n",
      "      6 in race  7 in q  7 in race  8 in q  8 in race  9 in q  9 in race  \n",
      "0         False   False      False   False      False   False      False  \n",
      "1         False   False      False   False      False   False      False  \n",
      "2         False   False      False   False      False   False      False  \n",
      "3         False   False      False   False      False   False      False  \n",
      "4          True   False      False   False      False   False      False  \n",
      "...         ...     ...        ...     ...        ...     ...        ...  \n",
      "4753      False   False      False   False      False   False      False  \n",
      "4754      False   False      False   False      False   False      False  \n",
      "4755      False   False      False   False      False   False      False  \n",
      "4756      False   False      False   False      False   False      False  \n",
      "4757      False   False      False   False      False   False      False  \n",
      "\n",
      "[4758 rows x 44 columns]\n"
     ]
    }
   ],
   "source": [
    "enc = TransactionEncoder()\n",
    "enc_ary = enc.fit(items).transform(items)\n",
    "df = pd.DataFrame(enc_ary, columns=enc.columns_)\n",
    "print (df)"
   ]
  },
  {
   "cell_type": "code",
   "execution_count": 8,
   "id": "320e835a",
   "metadata": {},
   "outputs": [],
   "source": [
    "frequent_itemsets = apriori(df, min_support=0.0045 , use_colnames=True)"
   ]
  },
  {
   "cell_type": "code",
   "execution_count": 9,
   "id": "2330944c",
   "metadata": {},
   "outputs": [],
   "source": [
    "association_rules(frequent_itemsets, metric=\"confidence\", min_threshold=0.7)\n",
    "rules = association_rules(frequent_itemsets, metric=\"lift\", min_threshold=1.2)\n"
   ]
  },
  {
   "cell_type": "code",
   "execution_count": 10,
   "id": "b5a9ae7c",
   "metadata": {},
   "outputs": [],
   "source": [
    "rules=rules.filter(['antecedents','consequents','confidence'],axis=1)"
   ]
  },
  {
   "cell_type": "code",
   "execution_count": 11,
   "id": "efda42d8",
   "metadata": {},
   "outputs": [
    {
     "data": {
      "text/html": [
       "<div>\n",
       "<style scoped>\n",
       "    .dataframe tbody tr th:only-of-type {\n",
       "        vertical-align: middle;\n",
       "    }\n",
       "\n",
       "    .dataframe tbody tr th {\n",
       "        vertical-align: top;\n",
       "    }\n",
       "\n",
       "    .dataframe thead th {\n",
       "        text-align: right;\n",
       "    }\n",
       "</style>\n",
       "<table border=\"1\" class=\"dataframe\">\n",
       "  <thead>\n",
       "    <tr style=\"text-align: right;\">\n",
       "      <th></th>\n",
       "      <th>antecedents</th>\n",
       "      <th>consequents</th>\n",
       "      <th>confidence</th>\n",
       "    </tr>\n",
       "  </thead>\n",
       "  <tbody>\n",
       "    <tr>\n",
       "      <th>1</th>\n",
       "      <td>(1 in q)</td>\n",
       "      <td>(1 in race)</td>\n",
       "      <td>0.549180</td>\n",
       "    </tr>\n",
       "    <tr>\n",
       "      <th>0</th>\n",
       "      <td>(1 in race)</td>\n",
       "      <td>(1 in q)</td>\n",
       "      <td>0.527559</td>\n",
       "    </tr>\n",
       "    <tr>\n",
       "      <th>77</th>\n",
       "      <td>(2 in q)</td>\n",
       "      <td>(2 in race)</td>\n",
       "      <td>0.327869</td>\n",
       "    </tr>\n",
       "    <tr>\n",
       "      <th>76</th>\n",
       "      <td>(2 in race)</td>\n",
       "      <td>(2 in q)</td>\n",
       "      <td>0.314961</td>\n",
       "    </tr>\n",
       "    <tr>\n",
       "      <th>86</th>\n",
       "      <td>(3 in q)</td>\n",
       "      <td>(3 in race)</td>\n",
       "      <td>0.291667</td>\n",
       "    </tr>\n",
       "    <tr>\n",
       "      <th>87</th>\n",
       "      <td>(3 in race)</td>\n",
       "      <td>(3 in q)</td>\n",
       "      <td>0.275591</td>\n",
       "    </tr>\n",
       "    <tr>\n",
       "      <th>5</th>\n",
       "      <td>(2 in q)</td>\n",
       "      <td>(1 in race)</td>\n",
       "      <td>0.262295</td>\n",
       "    </tr>\n",
       "    <tr>\n",
       "      <th>4</th>\n",
       "      <td>(1 in race)</td>\n",
       "      <td>(2 in q)</td>\n",
       "      <td>0.251969</td>\n",
       "    </tr>\n",
       "    <tr>\n",
       "      <th>2</th>\n",
       "      <td>(1 in q)</td>\n",
       "      <td>(2 in race)</td>\n",
       "      <td>0.245902</td>\n",
       "    </tr>\n",
       "    <tr>\n",
       "      <th>97</th>\n",
       "      <td>(4 in q)</td>\n",
       "      <td>(4 in race)</td>\n",
       "      <td>0.241667</td>\n",
       "    </tr>\n",
       "    <tr>\n",
       "      <th>3</th>\n",
       "      <td>(2 in race)</td>\n",
       "      <td>(1 in q)</td>\n",
       "      <td>0.236220</td>\n",
       "    </tr>\n",
       "    <tr>\n",
       "      <th>91</th>\n",
       "      <td>(4 in q)</td>\n",
       "      <td>(3 in race)</td>\n",
       "      <td>0.233333</td>\n",
       "    </tr>\n",
       "    <tr>\n",
       "      <th>96</th>\n",
       "      <td>(4 in race)</td>\n",
       "      <td>(4 in q)</td>\n",
       "      <td>0.228346</td>\n",
       "    </tr>\n",
       "    <tr>\n",
       "      <th>90</th>\n",
       "      <td>(3 in race)</td>\n",
       "      <td>(4 in q)</td>\n",
       "      <td>0.220472</td>\n",
       "    </tr>\n",
       "    <tr>\n",
       "      <th>58</th>\n",
       "      <td>(19 in q)</td>\n",
       "      <td>(15 in race)</td>\n",
       "      <td>0.213675</td>\n",
       "    </tr>\n",
       "  </tbody>\n",
       "</table>\n",
       "</div>"
      ],
      "text/plain": [
       "    antecedents   consequents  confidence\n",
       "1      (1 in q)   (1 in race)    0.549180\n",
       "0   (1 in race)      (1 in q)    0.527559\n",
       "77     (2 in q)   (2 in race)    0.327869\n",
       "76  (2 in race)      (2 in q)    0.314961\n",
       "86     (3 in q)   (3 in race)    0.291667\n",
       "87  (3 in race)      (3 in q)    0.275591\n",
       "5      (2 in q)   (1 in race)    0.262295\n",
       "4   (1 in race)      (2 in q)    0.251969\n",
       "2      (1 in q)   (2 in race)    0.245902\n",
       "97     (4 in q)   (4 in race)    0.241667\n",
       "3   (2 in race)      (1 in q)    0.236220\n",
       "91     (4 in q)   (3 in race)    0.233333\n",
       "96  (4 in race)      (4 in q)    0.228346\n",
       "90  (3 in race)      (4 in q)    0.220472\n",
       "58    (19 in q)  (15 in race)    0.213675"
      ]
     },
     "execution_count": 11,
     "metadata": {},
     "output_type": "execute_result"
    }
   ],
   "source": [
    "rules.sort_values(by='confidence',ascending=False).head(15)"
   ]
  },
  {
   "cell_type": "code",
   "execution_count": 12,
   "id": "1b439916",
   "metadata": {},
   "outputs": [],
   "source": [
    "# Function to convert rules to coordinates.\n",
    "def rules_to_coordinates(rules):\n",
    "    rules['antecedent'] = rules['antecedents'].apply(lambda antecedent: list(antecedent)[0])\n",
    "    rules['consequent'] = rules['consequents'].apply(lambda consequent: list(consequent)[0])\n",
    "    rules['rule'] = rules.index\n",
    "    return rules[['antecedent','consequent','rule']]"
   ]
  },
  {
   "cell_type": "code",
   "execution_count": 16,
   "id": "ac795f18",
   "metadata": {},
   "outputs": [
    {
     "data": {
      "image/png": "[encoded data removed]",
      "text/plain": [
       "<Figure size 288x576 with 1 Axes>"
      ]
     },
     "metadata": {
      "needs_background": "light"
     },
     "output_type": "display_data"
    }
   ],
   "source": [
    "from pandas.plotting import parallel_coordinates\n",
    "import matplotlib.pyplot as plt\n",
    "\n",
    "rule=rules.sort_values(by='confidence',ascending=False).head(3)\n",
    "# Convert rules into coordinates suitable for use in a parallel coordinates plot\n",
    "coords = rules_to_coordinates(rule)\n",
    "\n",
    "# Generate parallel coordinates plot\n",
    "plt.figure(figsize=(4,8))\n",
    "parallel_coordinates(coords, 'rule')\n",
    "plt.legend([])\n",
    "plt.grid(True)\n",
    "plt.show()"
   ]
  }
 ],
 "metadata": {
  "kernelspec": {
   "display_name": "Python 3",
   "language": "python",
   "name": "python3"
  },
  "language_info": {
   "codemirror_mode": {
    "name": "ipython",
    "version": 3
   },
   "file_extension": ".py",
   "mimetype": "text/x-python",
   "name": "python",
   "nbconvert_exporter": "python",
   "pygments_lexer": "ipython3",
   "version": "3.8.8"
  }
 },
 "nbformat": 4,
 "nbformat_minor": 5
}
